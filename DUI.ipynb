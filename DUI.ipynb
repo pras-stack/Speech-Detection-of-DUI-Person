{
  "cells": [
    {
      "cell_type": "markdown",
      "id": "cardiovascular-study",
      "metadata": {
        "id": "cardiovascular-study"
      },
      "source": [
        "#### Audio Classification Data Preprocessing"
      ]
    },
    {
      "cell_type": "code",
      "source": [
        "from google.colab import drive\n",
        "drive.mount('/content/drive')"
      ],
      "metadata": {
        "colab": {
          "base_uri": "https://localhost:8080/"
        },
        "id": "kDHRt5SC8erL",
        "outputId": "04ae2c36-1091-42cd-8912-565427a317e2"
      },
      "id": "kDHRt5SC8erL",
      "execution_count": 3,
      "outputs": [
        {
          "output_type": "stream",
          "name": "stdout",
          "text": [
            "Mounted at /content/drive\n"
          ]
        }
      ]
    },
    {
      "cell_type": "code",
      "execution_count": 4,
      "id": "boxed-central",
      "metadata": {
        "id": "boxed-central",
        "colab": {
          "base_uri": "https://localhost:8080/"
        },
        "outputId": "16e04273-07ce-4b47-ae07-ebe8421f6943"
      },
      "outputs": [
        {
          "output_type": "stream",
          "name": "stderr",
          "text": [
            "/usr/local/lib/python3.8/dist-packages/librosa/core/audio.py:165: UserWarning: PySoundFile failed. Trying audioread instead.\n",
            "  warnings.warn(\"PySoundFile failed. Trying audioread instead.\")\n"
          ]
        }
      ],
      "source": [
        "### Let's read a sample audio using librosa\n",
        "import librosa\n",
        "audio_file_path='/content/drive/MyDrive/Intern/Intoxicated/29 Jul, 12.00 am.mp3'\n",
        "librosa_audio_data,librosa_sample_rate=librosa.load(audio_file_path)"
      ]
    },
    {
      "cell_type": "code",
      "execution_count": 5,
      "id": "variable-airline",
      "metadata": {
        "id": "variable-airline",
        "colab": {
          "base_uri": "https://localhost:8080/"
        },
        "outputId": "02d74b4f-bf29-4b27-bc56-fe98296b24c5"
      },
      "outputs": [
        {
          "output_type": "stream",
          "name": "stdout",
          "text": [
            "[ 0.          0.          0.         ... -0.0064552  -0.00495868\n",
            " -0.00193937]\n"
          ]
        }
      ],
      "source": [
        "print(librosa_audio_data)"
      ]
    },
    {
      "cell_type": "code",
      "source": [
        "librosa_audio_data.shape"
      ],
      "metadata": {
        "colab": {
          "base_uri": "https://localhost:8080/"
        },
        "id": "G8B58tJq84Hq",
        "outputId": "119d3270-1fd9-48fc-9e19-7606b0393fdc"
      },
      "id": "G8B58tJq84Hq",
      "execution_count": 6,
      "outputs": [
        {
          "output_type": "execute_result",
          "data": {
            "text/plain": [
              "(91728,)"
            ]
          },
          "metadata": {},
          "execution_count": 6
        }
      ]
    },
    {
      "cell_type": "code",
      "execution_count": 7,
      "id": "swedish-minute",
      "metadata": {
        "id": "swedish-minute",
        "colab": {
          "base_uri": "https://localhost:8080/",
          "height": 282
        },
        "outputId": "d1c62ecf-f213-4de6-c85d-3f75266e30ec"
      },
      "outputs": [
        {
          "output_type": "execute_result",
          "data": {
            "text/plain": [
              "[<matplotlib.lines.Line2D at 0x7fa76a43f7c0>]"
            ]
          },
          "metadata": {},
          "execution_count": 7
        },
        {
          "output_type": "display_data",
          "data": {
            "text/plain": [
              "<Figure size 864x288 with 1 Axes>"
            ],
            "image/png": "[encoded data removed]"
          },
          "metadata": {
            "needs_background": "light"
          }
        }
      ],
      "source": [
        "### Lets plot the librosa audio data\n",
        "import matplotlib.pyplot as plt\n",
        "# Original audio with 1 channel \n",
        "plt.figure(figsize=(12, 4))\n",
        "plt.plot(librosa_audio_data)"
      ]
    },
    {
      "cell_type": "markdown",
      "id": "applicable-priest",
      "metadata": {
        "id": "applicable-priest"
      },
      "source": [
        "### Extract Features\n",
        "Here we will be using Mel-Frequency Cepstral Coefficients(MFCC) from the audio \n",
        "samples.\n",
        "The MFCC summarises the frequency distribution across the window size, so it is possible to analyse both the frequency and time characteristics of the sound. These audio representations will allow us to identify features for classification."
      ]
    },
    {
      "cell_type": "code",
      "execution_count": 8,
      "id": "chinese-north",
      "metadata": {
        "colab": {
          "base_uri": "https://localhost:8080/"
        },
        "id": "chinese-north",
        "outputId": "a75d9a96-d52f-4a64-9513-cf8dcce0919a"
      },
      "outputs": [
        {
          "output_type": "stream",
          "name": "stdout",
          "text": [
            "(40, 180)\n"
          ]
        }
      ],
      "source": [
        "mfccs = librosa.feature.mfcc(y=librosa_audio_data, sr=librosa_sample_rate, n_mfcc=40)\n",
        "print(mfccs.shape)"
      ]
    },
    {
      "cell_type": "code",
      "execution_count": 9,
      "id": "sporting-freeware",
      "metadata": {
        "colab": {
          "base_uri": "https://localhost:8080/"
        },
        "id": "sporting-freeware",
        "outputId": "f6cc2b90-bcaf-47b9-c3ce-695d2b8ce4c1"
      },
      "outputs": [
        {
          "output_type": "execute_result",
          "data": {
            "text/plain": [
              "array([[-565.53644  , -565.53644  , -565.53644  , ..., -214.6551   ,\n",
              "        -222.82584  , -242.53697  ],\n",
              "       [   0.       ,    0.       ,    0.       , ...,  185.88107  ,\n",
              "         163.275    ,  166.64156  ],\n",
              "       [   0.       ,    0.       ,    0.       , ...,  -12.025291 ,\n",
              "         -31.300827 ,  -18.552238 ],\n",
              "       ...,\n",
              "       [   0.       ,    0.       ,    0.       , ...,   -4.102255 ,\n",
              "          -7.945295 ,   -7.0372896],\n",
              "       [   0.       ,    0.       ,    0.       , ...,  -12.574086 ,\n",
              "         -21.892101 ,  -20.494228 ],\n",
              "       [   0.       ,    0.       ,    0.       , ...,    3.3702064,\n",
              "          -3.9340663,   -4.857513 ]], dtype=float32)"
            ]
          },
          "metadata": {},
          "execution_count": 9
        }
      ],
      "source": [
        "mfccs"
      ]
    },
    {
      "cell_type": "code",
      "execution_count": 10,
      "id": "liberal-journalist",
      "metadata": {
        "id": "liberal-journalist"
      },
      "outputs": [],
      "source": [
        "#### Extracting MFCC's For every audio file\n",
        "import pandas as pd\n",
        "import os\n",
        "import librosa\n",
        "\n",
        "audio_dataset_path='/content/drive/MyDrive/Intern/Intoxicated'\n",
        "# metadata=pd.read_csv('UrbanSound8K/metadata/UrbanSound8K.csv')\n",
        "# metadata.head()"
      ]
    },
    {
      "cell_type": "code",
      "execution_count": 11,
      "id": "chinese-calendar",
      "metadata": {
        "id": "chinese-calendar"
      },
      "outputs": [],
      "source": [
        "def features_extractor(file_name):\n",
        "    audio, sample_rate = librosa.load(file_name, res_type='kaiser_fast') \n",
        "    mfccs_features = librosa.feature.mfcc(y=audio, sr=sample_rate, n_mfcc=40)\n",
        "    mfccs_scaled_features = np.mean(mfccs_features.T,axis=0)\n",
        "    \n",
        "    return mfccs_scaled_features\n",
        "    "
      ]
    },
    {
      "cell_type": "code",
      "source": [
        "%cd \"/content/drive/MyDrive/Intern/Intoxicated\"\n"
      ],
      "metadata": {
        "colab": {
          "base_uri": "https://localhost:8080/"
        },
        "id": "03A0A3bUMdI8",
        "outputId": "bf757d02-357d-4e3c-ae4a-a587abd6e935"
      },
      "id": "03A0A3bUMdI8",
      "execution_count": 12,
      "outputs": [
        {
          "output_type": "stream",
          "name": "stdout",
          "text": [
            "/content/drive/.shortcut-targets-by-id/1_EqFPTDYdgQdYUq9Ql06QDo1CjbtodK3/Intern/Intoxicated\n"
          ]
        }
      ]
    },
    {
      "cell_type": "code",
      "execution_count": 13,
      "id": "nuclear-sponsorship",
      "metadata": {
        "id": "nuclear-sponsorship",
        "colab": {
          "base_uri": "https://localhost:8080/"
        },
        "outputId": "389508b3-c33b-42f7-9d9a-7021e5a89554"
      },
      "outputs": [
        {
          "output_type": "stream",
          "name": "stdout",
          "text": [
            "saurav1.mp3\n"
          ]
        },
        {
          "output_type": "stream",
          "name": "stderr",
          "text": [
            "/usr/local/lib/python3.8/dist-packages/librosa/core/audio.py:165: UserWarning: PySoundFile failed. Trying audioread instead.\n",
            "  warnings.warn(\"PySoundFile failed. Trying audioread instead.\")\n"
          ]
        },
        {
          "output_type": "stream",
          "name": "stdout",
          "text": [
            "Saurabh2.mp3\n"
          ]
        },
        {
          "output_type": "stream",
          "name": "stderr",
          "text": [
            "/usr/local/lib/python3.8/dist-packages/librosa/core/audio.py:165: UserWarning: PySoundFile failed. Trying audioread instead.\n",
            "  warnings.warn(\"PySoundFile failed. Trying audioread instead.\")\n"
          ]
        },
        {
          "output_type": "stream",
          "name": "stdout",
          "text": [
            "29 Jul, 12.00 am.mp3\n",
            "raj1.mp3\n"
          ]
        },
        {
          "output_type": "stream",
          "name": "stderr",
          "text": [
            "/usr/local/lib/python3.8/dist-packages/librosa/core/audio.py:165: UserWarning: PySoundFile failed. Trying audioread instead.\n",
            "  warnings.warn(\"PySoundFile failed. Trying audioread instead.\")\n",
            "/usr/local/lib/python3.8/dist-packages/librosa/core/audio.py:165: UserWarning: PySoundFile failed. Trying audioread instead.\n",
            "  warnings.warn(\"PySoundFile failed. Trying audioread instead.\")\n"
          ]
        },
        {
          "output_type": "stream",
          "name": "stdout",
          "text": [
            "Manish1.mp3\n"
          ]
        },
        {
          "output_type": "stream",
          "name": "stderr",
          "text": [
            "/usr/local/lib/python3.8/dist-packages/librosa/core/audio.py:165: UserWarning: PySoundFile failed. Trying audioread instead.\n",
            "  warnings.warn(\"PySoundFile failed. Trying audioread instead.\")\n"
          ]
        },
        {
          "output_type": "stream",
          "name": "stdout",
          "text": [
            "vaibhav 1.mp3\n"
          ]
        },
        {
          "output_type": "stream",
          "name": "stderr",
          "text": [
            "/usr/local/lib/python3.8/dist-packages/librosa/core/audio.py:165: UserWarning: PySoundFile failed. Trying audioread instead.\n",
            "  warnings.warn(\"PySoundFile failed. Trying audioread instead.\")\n"
          ]
        },
        {
          "output_type": "stream",
          "name": "stdout",
          "text": [
            "tulsi-dialogue.mp3\n"
          ]
        },
        {
          "output_type": "stream",
          "name": "stderr",
          "text": [
            "/usr/local/lib/python3.8/dist-packages/librosa/core/audio.py:165: UserWarning: PySoundFile failed. Trying audioread instead.\n",
            "  warnings.warn(\"PySoundFile failed. Trying audioread instead.\")\n"
          ]
        },
        {
          "output_type": "stream",
          "name": "stdout",
          "text": [
            "tulsi_Song.mp3\n"
          ]
        },
        {
          "output_type": "stream",
          "name": "stderr",
          "text": [
            "/usr/local/lib/python3.8/dist-packages/librosa/core/audio.py:165: UserWarning: PySoundFile failed. Trying audioread instead.\n",
            "  warnings.warn(\"PySoundFile failed. Trying audioread instead.\")\n"
          ]
        },
        {
          "output_type": "stream",
          "name": "stdout",
          "text": [
            "saurabh_dialogue.mp3\n"
          ]
        },
        {
          "output_type": "stream",
          "name": "stderr",
          "text": [
            "/usr/local/lib/python3.8/dist-packages/librosa/core/audio.py:165: UserWarning: PySoundFile failed. Trying audioread instead.\n",
            "  warnings.warn(\"PySoundFile failed. Trying audioread instead.\")\n"
          ]
        },
        {
          "output_type": "stream",
          "name": "stdout",
          "text": [
            "Aman1.mp3\n"
          ]
        },
        {
          "output_type": "stream",
          "name": "stderr",
          "text": [
            "/usr/local/lib/python3.8/dist-packages/librosa/core/audio.py:165: UserWarning: PySoundFile failed. Trying audioread instead.\n",
            "  warnings.warn(\"PySoundFile failed. Trying audioread instead.\")\n"
          ]
        },
        {
          "output_type": "stream",
          "name": "stdout",
          "text": [
            "manish_song.mp3\n"
          ]
        },
        {
          "output_type": "stream",
          "name": "stderr",
          "text": [
            "/usr/local/lib/python3.8/dist-packages/librosa/core/audio.py:165: UserWarning: PySoundFile failed. Trying audioread instead.\n",
            "  warnings.warn(\"PySoundFile failed. Trying audioread instead.\")\n"
          ]
        },
        {
          "output_type": "stream",
          "name": "stdout",
          "text": [
            "raj_song.mp3\n"
          ]
        },
        {
          "output_type": "stream",
          "name": "stderr",
          "text": [
            "/usr/local/lib/python3.8/dist-packages/librosa/core/audio.py:165: UserWarning: PySoundFile failed. Trying audioread instead.\n",
            "  warnings.warn(\"PySoundFile failed. Trying audioread instead.\")\n"
          ]
        },
        {
          "output_type": "stream",
          "name": "stdout",
          "text": [
            "saurabh_reading.mp3\n"
          ]
        },
        {
          "output_type": "stream",
          "name": "stderr",
          "text": [
            "/usr/local/lib/python3.8/dist-packages/librosa/core/audio.py:165: UserWarning: PySoundFile failed. Trying audioread instead.\n",
            "  warnings.warn(\"PySoundFile failed. Trying audioread instead.\")\n"
          ]
        },
        {
          "output_type": "stream",
          "name": "stdout",
          "text": [
            "manish_reading.mp3\n"
          ]
        },
        {
          "output_type": "stream",
          "name": "stderr",
          "text": [
            "/usr/local/lib/python3.8/dist-packages/librosa/core/audio.py:165: UserWarning: PySoundFile failed. Trying audioread instead.\n",
            "  warnings.warn(\"PySoundFile failed. Trying audioread instead.\")\n"
          ]
        },
        {
          "output_type": "stream",
          "name": "stdout",
          "text": [
            "raj_reading.mp3\n"
          ]
        },
        {
          "output_type": "stream",
          "name": "stderr",
          "text": [
            "/usr/local/lib/python3.8/dist-packages/librosa/core/audio.py:165: UserWarning: PySoundFile failed. Trying audioread instead.\n",
            "  warnings.warn(\"PySoundFile failed. Trying audioread instead.\")\n"
          ]
        },
        {
          "output_type": "stream",
          "name": "stdout",
          "text": [
            "saurabh_reading_2.mp3\n"
          ]
        },
        {
          "output_type": "stream",
          "name": "stderr",
          "text": [
            "/usr/local/lib/python3.8/dist-packages/librosa/core/audio.py:165: UserWarning: PySoundFile failed. Trying audioread instead.\n",
            "  warnings.warn(\"PySoundFile failed. Trying audioread instead.\")\n"
          ]
        }
      ],
      "source": [
        "import numpy as np\n",
        "from tqdm import tqdm\n",
        "### Now we iterate through every audio file and extract features \n",
        "### using Mel-Frequency Cepstral Coefficients\n",
        "extracted_features=[]\n",
        "for files in os.listdir(\"/content/drive/MyDrive/Intern/Intoxicated\"):\n",
        "    file_name = files\n",
        "    print(file_name)\n",
        "    # audio, sample_rate = librosa.load(file_name, res_type='kaiser_fast') \n",
        "    # print(audio)\n",
        "    # final_class_labels=row[\"class\"]\n",
        "    data=features_extractor(file_name)\n",
        "    extracted_features.append([data])"
      ]
    },
    {
      "cell_type": "code",
      "source": [
        "#Intoxicated\n",
        "extracted_features"
      ],
      "metadata": {
        "colab": {
          "base_uri": "https://localhost:8080/"
        },
        "id": "VVQlGsJEB_E3",
        "outputId": "678eb6f9-1287-43a7-a349-79b321a1c8e5"
      },
      "id": "VVQlGsJEB_E3",
      "execution_count": 14,
      "outputs": [
        {
          "output_type": "execute_result",
          "data": {
            "text/plain": [
              "[[array([-2.3671407e+02,  1.2304990e+02, -3.5074585e+01,  2.6170708e+01,\n",
              "         -1.8604046e+01,  1.4150992e+01, -1.7331930e+01, -7.0977244e+00,\n",
              "         -2.2122602e+01, -1.2010001e+00, -4.7876558e+00, -9.9419699e+00,\n",
              "          9.1760998e+00, -9.4435568e+00,  1.0526067e+00, -5.0376067e+00,\n",
              "         -1.0491467e+01, -6.6925745e+00,  5.9181519e-02, -1.2193490e+01,\n",
              "         -2.7999651e+00,  2.1610053e+00, -1.0374966e+01, -3.7639015e+00,\n",
              "         -4.8170433e+00, -3.0072324e+00, -6.9447370e+00, -2.8908713e+00,\n",
              "         -5.0023723e+00, -8.6913711e-01, -6.4891787e+00, -6.9399371e+00,\n",
              "         -6.7427641e-01, -8.9899712e+00, -2.4139717e+00, -6.4419408e+00,\n",
              "         -2.9398463e+00, -4.0381908e+00, -5.1167297e+00, -2.4333608e+00],\n",
              "        dtype=float32)],\n",
              " [array([-2.79683289e+02,  1.12372925e+02, -1.96490421e+01,  4.68549767e+01,\n",
              "         -1.08854141e+01,  5.24593639e+00, -1.64174614e+01, -1.44801159e+01,\n",
              "         -6.90662527e+00, -7.84105110e+00, -5.84256554e+00, -4.20568991e+00,\n",
              "         -1.13224192e+01, -1.63516417e-01,  1.46498048e+00, -9.79001904e+00,\n",
              "         -6.94123030e+00, -1.14983006e+01,  5.03595495e+00, -8.50289726e+00,\n",
              "         -4.71853924e+00,  1.32166553e+00, -8.46977615e+00, -4.38772726e+00,\n",
              "         -6.75033951e+00, -2.91487622e+00, -4.09205818e+00, -3.27174234e+00,\n",
              "         -8.43833065e+00,  4.28310782e-02, -2.72273803e+00, -7.30226707e+00,\n",
              "         -4.95243216e+00, -6.76557255e+00, -2.52141380e+00, -6.07454586e+00,\n",
              "         -1.28475797e+00, -5.55516529e+00, -3.45682335e+00, -3.81902075e+00],\n",
              "        dtype=float32)],\n",
              " [array([-255.39215  ,  108.354294 ,  -35.296665 ,   44.338017 ,\n",
              "          -16.301104 ,    2.95187  ,  -17.774431 ,   -8.746396 ,\n",
              "          -14.288299 ,    3.511991 ,  -10.095082 ,  -10.170557 ,\n",
              "            6.6089816,  -17.149153 ,   -1.3031102,   -2.1746655,\n",
              "          -13.579336 ,   -2.1821034,    0.8457151,   -8.227371 ,\n",
              "           -3.8289096,   -2.9846692,   -3.5751286,   -4.429189 ,\n",
              "           -7.296536 ,    1.0933119,   -8.070452 ,   -1.0095444,\n",
              "           -6.3584547,   -4.974271 ,   -1.570213 ,   -6.7732434,\n",
              "           -2.4202988,   -7.898788 ,   -2.5771606,   -6.94316  ,\n",
              "           -1.6133847,   -2.9125512,   -2.3173373,    1.5077688],\n",
              "        dtype=float32)],\n",
              " [array([-2.3961761e+02,  1.3122644e+02, -3.7778290e+01,  3.7023933e+01,\n",
              "         -3.5032878e+00, -1.8742500e+01, -1.9936007e+01, -1.1364623e+01,\n",
              "         -2.6157734e+01, -4.1804433e+00, -1.3382312e+00, -1.4304704e+01,\n",
              "          7.7049546e-02, -9.3128967e+00,  4.4162238e-01, -5.7929420e+00,\n",
              "         -1.2859909e+01, -1.5995238e+00, -4.0468168e+00, -1.0621163e+01,\n",
              "         -3.6220684e+00, -3.9884546e+00, -9.2146091e+00, -7.0944872e+00,\n",
              "         -7.1541343e+00, -7.3959398e+00, -8.2424841e+00, -3.1920753e+00,\n",
              "         -5.4911036e+00, -3.3592763e+00, -2.7387648e+00, -3.6954052e+00,\n",
              "         -3.8972049e+00, -3.3835216e+00,  1.4469568e+00, -1.1317066e+00,\n",
              "          3.1072605e+00,  2.7267632e-01, -1.0610320e-01,  2.9210958e+00],\n",
              "        dtype=float32)],\n",
              " [array([-2.6115491e+02,  1.1804133e+02, -2.2051928e+01,  5.2889355e+01,\n",
              "         -1.1143983e+01, -1.1589701e+01, -1.7246870e+01, -7.6938186e+00,\n",
              "         -1.1781635e+01, -6.1049128e+00, -3.2371800e+00, -9.9543772e+00,\n",
              "          1.4079745e-01, -5.7483883e+00,  2.9419024e+00, -8.7678862e+00,\n",
              "         -6.4030313e+00,  5.5005908e-01, -1.0571269e+01, -6.6059818e+00,\n",
              "         -4.9994187e+00, -6.0461016e+00, -4.0899138e+00, -7.4356427e+00,\n",
              "         -4.9905958e+00, -4.2306914e+00, -7.8615909e+00, -2.6928992e+00,\n",
              "         -8.0986023e+00, -6.5828938e+00, -5.5260658e+00, -5.6197405e+00,\n",
              "         -1.4065747e+00, -4.8867407e+00, -2.3591771e+00, -4.5726080e+00,\n",
              "         -2.5038068e+00, -3.0589018e+00, -5.0277891e+00, -1.7383510e+00],\n",
              "        dtype=float32)],\n",
              " [array([-261.794    ,  121.27327  ,  -20.679075 ,   39.04854  ,\n",
              "           -0.6167956,    9.514848 ,  -26.441584 ,   -4.802357 ,\n",
              "          -12.26463  ,  -11.679865 ,   -2.0189874,   -9.176965 ,\n",
              "           -5.5463076,  -11.235431 ,   -5.229461 ,   -4.7658844,\n",
              "           -6.8605328,   -3.9793282,    1.5134319,   -6.6604533,\n",
              "           -5.248108 ,   -4.0093307,  -10.069451 ,  -12.358393 ,\n",
              "           -6.004384 ,   -5.298989 ,  -11.056128 ,   -0.265885 ,\n",
              "           -4.6885967,   -3.133729 ,   -5.974544 ,   -5.5057707,\n",
              "           -2.1872122,   -6.0991893,   -0.8800518,   -5.091575 ,\n",
              "           -4.4010777,   -8.748763 ,   -2.6384969,   -1.6458911],\n",
              "        dtype=float32)],\n",
              " [array([-2.3485155e+02,  1.1406025e+02, -2.4581705e+01,  2.7233343e+01,\n",
              "         -1.5290646e+01, -1.3561746e+01, -1.9973068e+01, -1.1801828e+01,\n",
              "         -2.0941744e+01, -1.5734973e+00, -6.9031034e+00, -7.2984571e+00,\n",
              "         -1.8215846e+00, -1.3033039e+01, -2.3304000e+00, -8.2175741e+00,\n",
              "         -9.3422270e+00, -4.5149355e+00, -2.1320310e+00, -9.9774342e+00,\n",
              "         -7.2716961e+00, -1.6526836e+00, -5.0332236e+00, -7.9858274e+00,\n",
              "         -9.4093571e+00, -4.8611941e+00, -7.3372765e+00, -1.8579069e+00,\n",
              "         -5.0810118e+00, -3.3670080e+00, -4.9875093e-01, -1.7078590e+00,\n",
              "          9.9655277e-01, -2.3393984e+00, -1.0030713e+00, -2.2927380e+00,\n",
              "          2.0508072e+00, -6.7600071e-02, -1.5125003e+00,  1.0148103e+00],\n",
              "        dtype=float32)],\n",
              " [array([-254.67836   ,   92.008705  ,  -39.241314  ,    9.372693  ,\n",
              "          -24.002903  ,  -19.147392  ,  -17.189428  ,   -7.2590046 ,\n",
              "          -23.523197  ,    2.375833  ,   -6.027081  ,  -17.227125  ,\n",
              "            1.5830992 ,  -12.67148   ,   -9.405726  ,  -11.588765  ,\n",
              "          -14.465635  ,   -9.790329  ,   -3.213279  ,   -1.2086511 ,\n",
              "            6.64283   ,   11.777295  ,    6.7290854 ,    2.9255574 ,\n",
              "            2.6540473 ,    1.5388473 ,   -0.37569815,    4.6809235 ,\n",
              "           -5.3401628 ,   -5.388547  ,   -3.8161666 ,   -1.9900973 ,\n",
              "           -0.8004022 ,   -6.8579516 ,   -4.5177503 ,   -6.276171  ,\n",
              "           -1.5417899 ,   -3.4761114 ,   -2.0290332 ,    2.8742254 ],\n",
              "        dtype=float32)],\n",
              " [array([-2.5029404e+02,  1.1314987e+02, -2.4338053e+01,  3.8313473e+01,\n",
              "         -1.2955170e+01,  9.6715021e+00, -1.2088354e+01, -1.0867668e+01,\n",
              "         -1.7447866e+01, -6.0429180e-01, -1.4017208e+01, -5.3106055e+00,\n",
              "          3.8294423e+00, -1.4753574e+01,  2.8141379e+00, -6.2857609e+00,\n",
              "         -9.4346581e+00, -7.2198911e+00, -1.8032861e+00, -8.9625387e+00,\n",
              "         -4.9623880e+00, -3.9694887e-01, -4.4303384e+00, -5.2031775e+00,\n",
              "         -4.9221878e+00, -2.4695144e+00, -9.3262043e+00,  1.3737643e-01,\n",
              "         -6.6704645e+00, -3.8483748e+00, -3.5419021e+00, -6.3831983e+00,\n",
              "         -2.8856902e+00, -7.4649367e+00, -1.2386431e+00, -6.8279371e+00,\n",
              "         -1.8097972e+00, -2.0290301e+00, -4.4073234e+00, -1.6884040e+00],\n",
              "        dtype=float32)],\n",
              " [array([-2.9016608e+02,  1.1484151e+02, -2.2833885e+01,  3.0319170e+01,\n",
              "         -1.0120207e+01,  3.9250860e+00, -2.6068424e+01, -1.9547451e+01,\n",
              "         -8.1425400e+00, -1.5627620e+01,  2.5469747e+00, -4.5271254e+00,\n",
              "         -3.2748609e+00, -5.7980275e+00, -3.0758729e+00, -4.0298686e+00,\n",
              "         -1.0781901e+01,  3.1362668e-01, -4.2617736e+00, -6.2066274e+00,\n",
              "         -3.1970832e+00, -8.8897371e+00, -2.3604839e+00, -7.8283348e+00,\n",
              "         -8.1446238e+00, -3.9021237e+00, -8.3337774e+00, -3.7027609e-02,\n",
              "         -6.2542696e+00, -6.1735654e+00, -2.2789843e+00, -6.0885901e+00,\n",
              "         -5.9036732e+00, -7.9153557e+00, -4.9342661e+00, -5.3189249e+00,\n",
              "         -3.8414822e+00, -2.8410680e+00, -1.1111720e+00,  2.0282874e+00],\n",
              "        dtype=float32)],\n",
              " [array([-287.38803  ,  117.930824 ,  -19.612093 ,   43.555054 ,\n",
              "           -5.6426344,   -1.9678562,  -11.919267 ,  -12.922924 ,\n",
              "           -4.8909097,   -8.822907 ,  -10.075875 ,   -9.685898 ,\n",
              "           -6.1544056,   -6.2824574,   -3.660873 ,   -4.781312 ,\n",
              "           -5.5184364,   -4.704512 ,   -2.554429 ,   -8.1735735,\n",
              "           -2.8654852,   -6.7758307,   -7.3237667,   -2.2568696,\n",
              "           -6.3661203,   -2.9407175,   -3.5963175,   -1.6512319,\n",
              "           -7.284916 ,   -4.6365747,   -4.831508 ,   -8.9347315,\n",
              "           -5.5138655,   -5.818333 ,   -4.4672213,   -5.8143377,\n",
              "           -1.4824018,   -4.4072795,   -3.939181 ,   -2.301403 ],\n",
              "        dtype=float32)],\n",
              " [array([-263.11108  ,  104.91635  ,  -19.55686  ,   30.348585 ,\n",
              "          -12.306365 ,    0.6591198,  -16.667528 ,   -9.84979  ,\n",
              "          -16.747477 ,   -6.981791 ,   -2.5259876,  -12.564528 ,\n",
              "           -5.710847 ,   -3.0253685,    0.6045939,  -13.782139 ,\n",
              "           -3.463084 ,   -5.383799 ,  -12.4585285,   -5.0678577,\n",
              "           -3.305423 ,  -10.804306 ,   -7.528444 ,   -4.7733884,\n",
              "          -12.172224 ,   -4.8181763,  -10.5594225,   -7.88896  ,\n",
              "           -7.589987 ,   -7.8144207,   -3.093559 ,   -4.5672307,\n",
              "            1.711381 ,    3.2098675,    4.516155 ,    2.6553323,\n",
              "            4.664401 ,    5.500795 ,    3.549362 ,    1.5719817],\n",
              "        dtype=float32)],\n",
              " [array([-230.32437   ,  127.60608   ,  -28.133867  ,   36.042408  ,\n",
              "           -4.3554573 ,    9.68262   ,  -23.574945  ,   -8.937764  ,\n",
              "          -16.830582  ,  -13.285768  ,  -10.328658  ,  -15.192678  ,\n",
              "            0.96420825,  -14.825124  ,  -12.080325  ,   -6.4995856 ,\n",
              "          -11.450177  ,   -6.3433857 ,   -2.5054202 ,  -13.654336  ,\n",
              "           -3.4811006 ,   -2.5952556 ,   -2.399057  ,   -1.0141826 ,\n",
              "           -6.1682115 ,   -2.090425  ,   -8.254364  ,    1.249205  ,\n",
              "           -5.095757  ,   -5.100338  ,   -1.9284452 ,   -5.4663687 ,\n",
              "            0.9786287 ,   -4.6526947 ,   -2.730399  ,   -4.599334  ,\n",
              "           -1.8207573 ,    0.50303996,   -2.4331162 ,   -1.0949136 ],\n",
              "        dtype=float32)],\n",
              " [array([-1.9468683e+02,  1.3664603e+02, -5.8357910e+01,  4.1295662e+01,\n",
              "         -3.1567371e-01, -7.6736555e+00, -1.9153276e+01, -1.6817484e+01,\n",
              "         -9.4920311e+00, -1.2063406e+01, -9.7080641e+00, -3.5805295e+00,\n",
              "         -7.8866811e+00, -8.1768351e+00, -5.3844523e+00, -1.4019945e+01,\n",
              "         -4.1291270e+00, -9.9976673e+00, -1.0780609e+01, -9.4026251e+00,\n",
              "         -8.8943396e+00, -6.1633182e+00, -4.3060651e+00, -5.0500000e-01,\n",
              "         -2.7249298e+00, -2.7252562e+00, -9.5022783e+00, -4.4528513e+00,\n",
              "         -1.8877575e+00, -3.8802347e+00, -4.8632989e+00, -2.4235339e+00,\n",
              "         -1.1216284e+00, -4.2804799e+00,  1.5400116e-01, -1.8632867e+00,\n",
              "          7.0810097e-01, -2.9302366e+00, -2.6905754e+00,  1.2809454e+00],\n",
              "        dtype=float32)],\n",
              " [array([-203.6089    ,  129.4833    ,  -34.337093  ,   39.559765  ,\n",
              "           -3.873735  ,   -8.010796  ,  -19.370258  ,  -10.460809  ,\n",
              "          -18.5425    ,   -9.579688  ,  -13.922007  ,  -12.64929   ,\n",
              "            0.59103835,  -15.76353   ,   -6.861529  ,   -5.2618165 ,\n",
              "           -9.223178  ,  -10.884855  ,  -10.675055  ,   -8.578019  ,\n",
              "           -2.31522   ,   -5.2432256 ,  -12.786058  ,  -10.956899  ,\n",
              "           -7.55316   ,   -3.6014848 ,   -8.630087  ,   -2.860687  ,\n",
              "           -0.38387644,   -2.9455235 ,   -2.2255645 ,    1.0621649 ,\n",
              "            1.0261453 ,    2.2770357 ,    4.98934   ,   -4.2473426 ,\n",
              "           -0.8704018 ,   -0.6472634 ,   -1.4542649 ,    2.9721904 ],\n",
              "        dtype=float32)],\n",
              " [array([-2.27534821e+02,  1.20139534e+02, -3.16259594e+01,  4.43649483e+01,\n",
              "         -5.82913494e+00,  1.69867344e+01, -2.71760235e+01, -1.54918785e+01,\n",
              "         -1.72285252e+01, -4.35031843e+00, -2.05993342e+00, -9.78098965e+00,\n",
              "         -1.91967773e+00, -1.89495773e+01, -6.38626957e+00, -1.36303830e+00,\n",
              "         -1.14683018e+01, -8.58402157e+00, -2.37768793e+00, -1.47675781e+01,\n",
              "         -3.64644933e+00, -4.35724497e+00, -6.72507334e+00, -1.06555834e-01,\n",
              "         -3.33440638e+00, -3.42065835e+00, -6.57723999e+00,  3.20461798e+00,\n",
              "         -5.42420673e+00, -1.11679900e+00, -3.78382659e+00, -1.01853285e+01,\n",
              "         -1.33996236e+00, -6.97418118e+00, -5.25634623e+00, -5.72257471e+00,\n",
              "         -1.29589498e+00, -3.89189935e+00, -5.55982351e+00, -1.42105424e+00],\n",
              "        dtype=float32)]]"
            ]
          },
          "metadata": {},
          "execution_count": 14
        }
      ]
    },
    {
      "cell_type": "code",
      "execution_count": 15,
      "id": "acoustic-wagner",
      "metadata": {
        "colab": {
          "base_uri": "https://localhost:8080/",
          "height": 206
        },
        "id": "acoustic-wagner",
        "outputId": "fe260dcd-2356-430a-c94a-a6502e7cfabe"
      },
      "outputs": [
        {
          "output_type": "execute_result",
          "data": {
            "text/plain": [
              "                                             feature\n",
              "0  [-236.71407, 123.0499, -35.074585, 26.170708, ...\n",
              "1  [-279.6833, 112.372925, -19.649042, 46.854977,...\n",
              "2  [-255.39215, 108.354294, -35.296665, 44.338017...\n",
              "3  [-239.61761, 131.22644, -37.77829, 37.023933, ...\n",
              "4  [-261.1549, 118.04133, -22.051928, 52.889355, ..."
            ],
            "text/html": [
              "\n",
              "  <div id=\"df-c51df14e-7605-40bc-963d-99ea4320275b\">\n",
              "    <div class=\"colab-df-container\">\n",
              "      <div>\n",
              "<style scoped>\n",
              "    .dataframe tbody tr th:only-of-type {\n",
              "        vertical-align: middle;\n",
              "    }\n",
              "\n",
              "    .dataframe tbody tr th {\n",
              "        vertical-align: top;\n",
              "    }\n",
              "\n",
              "    .dataframe thead th {\n",
              "        text-align: right;\n",
              "    }\n",
              "</style>\n",
              "<table border=\"1\" class=\"dataframe\">\n",
              "  <thead>\n",
              "    <tr style=\"text-align: right;\">\n",
              "      <th></th>\n",
              "      <th>feature</th>\n",
              "    </tr>\n",
              "  </thead>\n",
              "  <tbody>\n",
              "    <tr>\n",
              "      <th>0</th>\n",
              "      <td>[-236.71407, 123.0499, -35.074585, 26.170708, ...</td>\n",
              "    </tr>\n",
              "    <tr>\n",
              "      <th>1</th>\n",
              "      <td>[-279.6833, 112.372925, -19.649042, 46.854977,...</td>\n",
              "    </tr>\n",
              "    <tr>\n",
              "      <th>2</th>\n",
              "      <td>[-255.39215, 108.354294, -35.296665, 44.338017...</td>\n",
              "    </tr>\n",
              "    <tr>\n",
              "      <th>3</th>\n",
              "      <td>[-239.61761, 131.22644, -37.77829, 37.023933, ...</td>\n",
              "    </tr>\n",
              "    <tr>\n",
              "      <th>4</th>\n",
              "      <td>[-261.1549, 118.04133, -22.051928, 52.889355, ...</td>\n",
              "    </tr>\n",
              "  </tbody>\n",
              "</table>\n",
              "</div>\n",
              "      <button class=\"colab-df-convert\" onclick=\"convertToInteractive('df-c51df14e-7605-40bc-963d-99ea4320275b')\"\n",
              "              title=\"Convert this dataframe to an interactive table.\"\n",
              "              style=\"display:none;\">\n",
              "        \n",
              "  <svg xmlns=\"http://www.w3.org/2000/svg\" height=\"24px\"viewBox=\"0 0 24 24\"\n",
              "       width=\"24px\">\n",
              "    <path d=\"M0 0h24v24H0V0z\" fill=\"none\"/>\n",
              "    <path d=\"M18.56 5.44l.94 2.06.94-2.06 2.06-.94-2.06-.94-.94-2.06-.94 2.06-2.06.94zm-11 1L8.5 8.5l.94-2.06 2.06-.94-2.06-.94L8.5 2.5l-.94 2.06-2.06.94zm10 10l.94 2.06.94-2.06 2.06-.94-2.06-.94-.94-2.06-.94 2.06-2.06.94z\"/><path d=\"M17.41 7.96l-1.37-1.37c-.4-.4-.92-.59-1.43-.59-.52 0-1.04.2-1.43.59L10.3 9.45l-7.72 7.72c-.78.78-.78 2.05 0 2.83L4 21.41c.39.39.9.59 1.41.59.51 0 1.02-.2 1.41-.59l7.78-7.78 2.81-2.81c.8-.78.8-2.07 0-2.86zM5.41 20L4 18.59l7.72-7.72 1.47 1.35L5.41 20z\"/>\n",
              "  </svg>\n",
              "      </button>\n",
              "      \n",
              "  <style>\n",
              "    .colab-df-container {\n",
              "      display:flex;\n",
              "      flex-wrap:wrap;\n",
              "      gap: 12px;\n",
              "    }\n",
              "\n",
              "    .colab-df-convert {\n",
              "      background-color: #E8F0FE;\n",
              "      border: none;\n",
              "      border-radius: 50%;\n",
              "      cursor: pointer;\n",
              "      display: none;\n",
              "      fill: #1967D2;\n",
              "      height: 32px;\n",
              "      padding: 0 0 0 0;\n",
              "      width: 32px;\n",
              "    }\n",
              "\n",
              "    .colab-df-convert:hover {\n",
              "      background-color: #E2EBFA;\n",
              "      box-shadow: 0px 1px 2px rgba(60, 64, 67, 0.3), 0px 1px 3px 1px rgba(60, 64, 67, 0.15);\n",
              "      fill: #174EA6;\n",
              "    }\n",
              "\n",
              "    [theme=dark] .colab-df-convert {\n",
              "      background-color: #3B4455;\n",
              "      fill: #D2E3FC;\n",
              "    }\n",
              "\n",
              "    [theme=dark] .colab-df-convert:hover {\n",
              "      background-color: #434B5C;\n",
              "      box-shadow: 0px 1px 3px 1px rgba(0, 0, 0, 0.15);\n",
              "      filter: drop-shadow(0px 1px 2px rgba(0, 0, 0, 0.3));\n",
              "      fill: #FFFFFF;\n",
              "    }\n",
              "  </style>\n",
              "\n",
              "      <script>\n",
              "        const buttonEl =\n",
              "          document.querySelector('#df-c51df14e-7605-40bc-963d-99ea4320275b button.colab-df-convert');\n",
              "        buttonEl.style.display =\n",
              "          google.colab.kernel.accessAllowed ? 'block' : 'none';\n",
              "\n",
              "        async function convertToInteractive(key) {\n",
              "          const element = document.querySelector('#df-c51df14e-7605-40bc-963d-99ea4320275b');\n",
              "          const dataTable =\n",
              "            await google.colab.kernel.invokeFunction('convertToInteractive',\n",
              "                                                     [key], {});\n",
              "          if (!dataTable) return;\n",
              "\n",
              "          const docLinkHtml = 'Like what you see? Visit the ' +\n",
              "            '<a target=\"_blank\" href=https://colab.research.google.com/notebooks/data_table.ipynb>data table notebook</a>'\n",
              "            + ' to learn more about interactive tables.';\n",
              "          element.innerHTML = '';\n",
              "          dataTable['output_type'] = 'display_data';\n",
              "          await google.colab.output.renderOutput(dataTable, element);\n",
              "          const docLink = document.createElement('div');\n",
              "          docLink.innerHTML = docLinkHtml;\n",
              "          element.appendChild(docLink);\n",
              "        }\n",
              "      </script>\n",
              "    </div>\n",
              "  </div>\n",
              "  "
            ]
          },
          "metadata": {},
          "execution_count": 15
        }
      ],
      "source": [
        "### converting extracted_features to Pandas dataframe\n",
        "intox_df=pd.DataFrame(extracted_features,columns=['feature'])\n",
        "intox_df.head()"
      ]
    },
    {
      "cell_type": "code",
      "source": [
        "%cd \"/content/drive/MyDrive/Intern/Sober\"\n"
      ],
      "metadata": {
        "colab": {
          "base_uri": "https://localhost:8080/"
        },
        "id": "7UgMZOwcBaY5",
        "outputId": "2703126a-2f65-4b70-9b6c-c50148ebaf9e"
      },
      "id": "7UgMZOwcBaY5",
      "execution_count": 26,
      "outputs": [
        {
          "output_type": "stream",
          "name": "stdout",
          "text": [
            "/content/drive/.shortcut-targets-by-id/1_EqFPTDYdgQdYUq9Ql06QDo1CjbtodK3/Intern/Sober\n"
          ]
        }
      ]
    },
    {
      "cell_type": "code",
      "source": [
        "extracted_features=[]\n",
        "for files in os.listdir(\"/content/drive/MyDrive/Intern/Sober\"):\n",
        "    file_name = files\n",
        "    print(file_name)\n",
        "    # audio, sample_rate = librosa.load(file_name, res_type='kaiser_fast') \n",
        "    # print(audio)\n",
        "    # final_class_labels=row[\"class\"]\n",
        "    data=features_extractor(file_name)\n",
        "    extracted_features.append([data])"
      ],
      "metadata": {
        "id": "pYbhB5kZCcqv",
        "colab": {
          "base_uri": "https://localhost:8080/"
        },
        "outputId": "7a7bff6f-9cca-45af-90c9-efda70352c69"
      },
      "id": "pYbhB5kZCcqv",
      "execution_count": 27,
      "outputs": [
        {
          "output_type": "stream",
          "name": "stdout",
          "text": [
            "ManishReading.ogg\n",
            "ManishSong.ogg\n"
          ]
        },
        {
          "output_type": "stream",
          "name": "stderr",
          "text": [
            "/usr/local/lib/python3.8/dist-packages/librosa/core/audio.py:165: UserWarning: PySoundFile failed. Trying audioread instead.\n",
            "  warnings.warn(\"PySoundFile failed. Trying audioread instead.\")\n"
          ]
        },
        {
          "output_type": "stream",
          "name": "stdout",
          "text": [
            "Manish1.ogg\n"
          ]
        },
        {
          "output_type": "stream",
          "name": "stderr",
          "text": [
            "/usr/local/lib/python3.8/dist-packages/librosa/core/audio.py:165: UserWarning: PySoundFile failed. Trying audioread instead.\n",
            "  warnings.warn(\"PySoundFile failed. Trying audioread instead.\")\n"
          ]
        },
        {
          "output_type": "stream",
          "name": "stdout",
          "text": [
            "saurav_dialogue.ogg\n",
            "SauravReading.ogg\n"
          ]
        },
        {
          "output_type": "stream",
          "name": "stderr",
          "text": [
            "/usr/local/lib/python3.8/dist-packages/librosa/core/audio.py:165: UserWarning: PySoundFile failed. Trying audioread instead.\n",
            "  warnings.warn(\"PySoundFile failed. Trying audioread instead.\")\n",
            "/usr/local/lib/python3.8/dist-packages/librosa/core/audio.py:165: UserWarning: PySoundFile failed. Trying audioread instead.\n",
            "  warnings.warn(\"PySoundFile failed. Trying audioread instead.\")\n"
          ]
        },
        {
          "output_type": "stream",
          "name": "stdout",
          "text": [
            "RajReading.ogg\n"
          ]
        },
        {
          "output_type": "stream",
          "name": "stderr",
          "text": [
            "/usr/local/lib/python3.8/dist-packages/librosa/core/audio.py:165: UserWarning: PySoundFile failed. Trying audioread instead.\n",
            "  warnings.warn(\"PySoundFile failed. Trying audioread instead.\")\n"
          ]
        },
        {
          "output_type": "stream",
          "name": "stdout",
          "text": [
            "RajSong.ogg\n"
          ]
        },
        {
          "output_type": "stream",
          "name": "stderr",
          "text": [
            "/usr/local/lib/python3.8/dist-packages/librosa/core/audio.py:165: UserWarning: PySoundFile failed. Trying audioread instead.\n",
            "  warnings.warn(\"PySoundFile failed. Trying audioread instead.\")\n"
          ]
        },
        {
          "output_type": "stream",
          "name": "stdout",
          "text": [
            "Raj_reading.ogg\n"
          ]
        },
        {
          "output_type": "stream",
          "name": "stderr",
          "text": [
            "/usr/local/lib/python3.8/dist-packages/librosa/core/audio.py:165: UserWarning: PySoundFile failed. Trying audioread instead.\n",
            "  warnings.warn(\"PySoundFile failed. Trying audioread instead.\")\n"
          ]
        },
        {
          "output_type": "stream",
          "name": "stdout",
          "text": [
            "aman_reading.ogg\n"
          ]
        },
        {
          "output_type": "stream",
          "name": "stderr",
          "text": [
            "/usr/local/lib/python3.8/dist-packages/librosa/core/audio.py:165: UserWarning: PySoundFile failed. Trying audioread instead.\n",
            "  warnings.warn(\"PySoundFile failed. Trying audioread instead.\")\n"
          ]
        },
        {
          "output_type": "stream",
          "name": "stdout",
          "text": [
            "baibhav.ogg\n"
          ]
        },
        {
          "output_type": "stream",
          "name": "stderr",
          "text": [
            "/usr/local/lib/python3.8/dist-packages/librosa/core/audio.py:165: UserWarning: PySoundFile failed. Trying audioread instead.\n",
            "  warnings.warn(\"PySoundFile failed. Trying audioread instead.\")\n"
          ]
        }
      ]
    },
    {
      "cell_type": "code",
      "source": [
        "#sober\n",
        "extracted_features"
      ],
      "metadata": {
        "colab": {
          "base_uri": "https://localhost:8080/"
        },
        "id": "ZX6yrFGtCzOJ",
        "outputId": "e0a20280-36d1-4d93-bc7f-991fa9e7ea7b"
      },
      "id": "ZX6yrFGtCzOJ",
      "execution_count": 28,
      "outputs": [
        {
          "output_type": "execute_result",
          "data": {
            "text/plain": [
              "[[array([-3.32244293e+02,  9.51006927e+01,  1.55908041e+01,  6.14871750e+01,\n",
              "         -1.71298714e+01,  8.62041187e+00, -5.04444218e+00, -9.63445568e+00,\n",
              "         -1.04367676e+01,  1.16878605e+01, -2.92435932e+01,  7.91392469e+00,\n",
              "          4.21474457e-01, -1.67266598e+01,  3.60134673e+00, -4.89031506e+00,\n",
              "         -6.07975245e+00,  6.03955889e+00, -2.54650283e+00, -1.09190149e+01,\n",
              "          4.91216040e+00, -4.88986254e+00, -7.95496559e+00,  1.91679347e+00,\n",
              "         -4.41240454e+00, -5.40682030e+00,  3.56945252e+00, -4.41986561e+00,\n",
              "         -7.20499158e-01,  1.30562019e+00, -4.00250673e+00, -5.98807693e-01,\n",
              "          2.70817578e-01, -6.32490635e+00, -4.15306926e-01, -9.04877901e-01,\n",
              "         -3.49608397e+00, -9.37517405e-01, -3.01453304e+00, -4.62748289e+00],\n",
              "        dtype=float32)],\n",
              " [array([-3.36288300e+02,  9.07388840e+01,  1.36924343e+01,  5.49120789e+01,\n",
              "         -1.41603231e+01,  9.77719498e+00, -1.98551826e+01, -9.86478209e-01,\n",
              "         -1.07184553e+01,  6.27037907e+00, -2.69903679e+01,  4.00835371e+00,\n",
              "         -6.14092827e+00, -1.74008865e+01,  2.38661814e+00, -7.87339735e+00,\n",
              "         -3.70479846e+00,  3.30957562e-01, -8.51161671e+00, -6.44847202e+00,\n",
              "         -2.47947097e-01, -3.90382624e+00, -1.03422575e+01,  4.47350413e-01,\n",
              "         -6.33474159e+00, -7.68162918e+00, -5.71776211e-01, -6.16961861e+00,\n",
              "         -3.90085101e+00, -4.52350616e+00, -2.71906972e+00, -7.69408941e+00,\n",
              "         -3.01831627e+00, -5.58823538e+00,  1.34558809e+00,  5.64477968e+00,\n",
              "          8.74485016e+00,  9.58266449e+00,  1.18874340e+01,  9.72118092e+00],\n",
              "        dtype=float32)],\n",
              " [array([-308.517     ,   98.13648   ,    6.5309577 ,   68.84292   ,\n",
              "          -16.31512   ,    3.5036192 ,  -14.431523  ,   -3.0239303 ,\n",
              "           -7.8966184 ,    8.077653  ,  -31.030897  ,    5.8083873 ,\n",
              "            1.4686539 ,  -16.34654   ,    2.1544485 ,   -6.2818356 ,\n",
              "           -3.813161  ,    4.38077   ,   -6.930016  ,   -7.2690053 ,\n",
              "            2.0135562 ,   -5.7414203 ,   -8.557384  ,    1.0862663 ,\n",
              "           -4.613263  ,   -6.5489354 ,    3.4291556 ,   -2.529383  ,\n",
              "           -1.358516  ,    0.5309133 ,   -2.5608735 ,   -2.5762324 ,\n",
              "            0.56202954,   -6.158985  ,   -0.43595165,   -0.78997177,\n",
              "           -3.0000486 ,   -1.7199813 ,   -2.8764925 ,   -4.798775  ],\n",
              "        dtype=float32)],\n",
              " [array([-3.0654193e+02,  1.5983702e+02, -4.4496632e+01,  3.1003195e+01,\n",
              "         -6.0772295e+00, -2.2842749e+01,  9.7714062e+00, -1.5316481e+01,\n",
              "         -1.1809478e+01,  4.9269276e+00, -1.0959222e+01, -4.1365023e+00,\n",
              "         -2.0864208e-01, -6.8894739e+00, -4.7040871e-01, -4.7382641e+00,\n",
              "         -8.3033676e+00, -4.0145516e+00, -4.9462900e+00, -7.2539401e+00,\n",
              "         -3.4994495e+00, -3.6824754e-01, -5.6716499e+00, -5.6012111e+00,\n",
              "         -2.4240808e+00, -3.1666765e+00, -1.3076872e+00, -1.3105505e+00,\n",
              "         -2.8549774e+00, -2.4630935e+00, -3.8225560e+00, -3.9449720e+00,\n",
              "         -3.4043086e+00, -5.4267206e+00, -2.8984957e+00, -2.0431726e+00,\n",
              "         -2.5892510e+00, -3.0484576e+00, -4.2317352e+00, -4.1074195e+00],\n",
              "        dtype=float32)],\n",
              " [array([-3.2689114e+02,  1.4706741e+02, -2.4362867e+01,  4.3290409e+01,\n",
              "         -4.6907854e+00, -2.3983104e+00, -9.5502148e+00, -8.5928917e+00,\n",
              "         -1.5634063e+01,  7.4757676e+00, -1.7763872e+01,  1.7117225e-01,\n",
              "         -1.0751832e+01, -1.1166483e+01,  6.1915028e-01, -1.0321282e+01,\n",
              "         -7.3070278e+00, -4.4389009e+00, -5.3410387e-01, -1.0498545e+01,\n",
              "         -8.0526991e+00, -3.4787276e+00, -6.5288663e+00, -6.6036921e+00,\n",
              "         -3.2964630e+00, -4.2456794e+00, -2.4193869e+00, -1.3667721e+00,\n",
              "         -2.7689731e+00, -2.7044705e-01, -1.0330597e+00, -4.2897630e+00,\n",
              "          1.3583325e+00, -4.2806444e+00, -1.5771639e+00, -3.5332406e+00,\n",
              "         -3.6874464e+00, -3.5644081e+00, -3.4779081e+00, -2.4636939e+00],\n",
              "        dtype=float32)],\n",
              " [array([-3.1633859e+02,  1.3879706e+02, -1.6818012e+01,  9.9578943e+00,\n",
              "         -8.0371428e+00, -6.6474371e+00, -2.6700932e+01, -9.6836243e+00,\n",
              "         -2.1983360e+01, -2.9269311e+00, -1.3500219e+01, -6.7801824e+00,\n",
              "         -3.5871849e+00, -1.3514263e+01,  2.6423895e+00, -8.4910841e+00,\n",
              "         -8.5113258e+00, -4.0322776e+00, -5.0895810e+00, -6.6890879e+00,\n",
              "         -8.1919680e+00, -2.4847697e-01, -1.1198259e+01, -7.4809664e-01,\n",
              "         -6.1184535e+00, -4.8378272e+00, -1.4336095e+00, -4.2386727e+00,\n",
              "         -1.8065115e+00, -4.6717463e+00, -1.7189600e+00, -4.8231454e+00,\n",
              "         -1.8264930e-01, -3.4818242e+00,  2.6795270e-03, -9.2071064e-02,\n",
              "         -1.8914670e-01, -3.2250029e-01,  1.9167908e-01,  8.4704942e-01],\n",
              "        dtype=float32)],\n",
              " [array([-413.51697   ,  114.599335  ,    9.005906  ,   11.706485  ,\n",
              "           -4.2893176 ,    7.45134   ,  -18.373852  ,  -17.423878  ,\n",
              "          -15.991386  ,   -1.5461566 ,   -8.228081  ,  -11.930586  ,\n",
              "           -8.734242  ,   -6.8227553 ,   -1.1161234 ,  -12.348406  ,\n",
              "           -4.917372  ,   -6.195145  ,   -9.584593  ,   -3.955218  ,\n",
              "           -8.850886  ,   -5.6143675 ,   -7.9879704 ,   -3.1901696 ,\n",
              "           -6.328652  ,   -3.7090297 ,   -4.9059143 ,   -5.5104012 ,\n",
              "           -2.2004955 ,   -3.462108  ,    2.365828  ,    0.58368385,\n",
              "            4.7080436 ,    5.4485645 ,    5.1180053 ,    4.2530594 ,\n",
              "            5.8894563 ,    4.472249  ,    4.429873  ,    4.732102  ],\n",
              "        dtype=float32)],\n",
              " [array([-3.8837646e+02,  1.3261980e+02, -5.8947058e+00,  1.9632976e+00,\n",
              "         -7.4650747e-01, -1.3282614e+00, -1.2547716e+01, -4.9009418e+00,\n",
              "         -1.8465635e+01, -8.0585413e+00, -1.7764690e+01, -1.0523111e+01,\n",
              "         -4.1007380e+00, -1.1559485e+01,  2.1393776e-02, -8.7435141e+00,\n",
              "         -7.4555583e+00, -4.0232177e+00, -7.5078721e+00, -8.0813055e+00,\n",
              "         -4.9210396e+00, -8.2426900e-01, -8.8750820e+00, -2.2415650e-01,\n",
              "         -4.3012285e+00, -3.7389517e+00, -1.1448706e+00, -3.3794158e+00,\n",
              "         -1.9448072e+00, -1.6002976e+00,  3.3531249e-01, -3.3365164e+00,\n",
              "          1.4708798e+00, -7.2603244e-01,  6.2427324e-01,  1.0315673e+00,\n",
              "          1.0518306e+00,  1.1592945e+00,  1.0392406e+00,  1.9032577e+00],\n",
              "        dtype=float32)],\n",
              " [array([-3.1538617e+02,  1.4397504e+02, -1.9785122e+01,  2.1409983e+01,\n",
              "         -1.3373581e+01, -6.0885711e+00, -2.4179607e+01, -1.4818921e+01,\n",
              "         -5.8138185e+00, -1.0277039e+01, -4.7409801e+00, -6.8033071e+00,\n",
              "          2.2462666e+00, -6.2953868e+00, -8.6318254e+00, -2.2625906e+00,\n",
              "         -7.0614061e+00, -9.6557016e+00, -3.2319012e+00, -1.2245450e+00,\n",
              "         -1.4761217e+00, -1.5640530e-01, -5.2153330e+00, -4.0937781e+00,\n",
              "         -1.2066598e+00, -4.2473984e+00, -6.4873414e+00, -3.4403188e+00,\n",
              "         -4.4457750e+00, -5.1091161e+00, -2.3520465e+00, -3.8566449e+00,\n",
              "         -2.1541941e+00, -2.2707787e+00, -2.3327768e+00, -2.1910698e+00,\n",
              "         -2.2308624e+00, -3.2470071e+00, -3.1136894e+00, -1.8772931e+00],\n",
              "        dtype=float32)],\n",
              " [array([-3.5272672e+02,  1.7016943e+02, -3.1608604e+01,  3.2554344e+01,\n",
              "          6.7379993e-01, -9.2910872e+00, -1.7764944e+01,  1.4098969e+00,\n",
              "         -5.2563734e+00, -1.4486943e+01, -3.0041664e+00, -1.0639837e+01,\n",
              "         -4.1850519e+00, -8.2334986e+00,  3.0852754e+00, -2.8966811e+00,\n",
              "         -1.1453951e+01, -2.4523024e-01, -7.5632443e+00, -7.9140253e+00,\n",
              "         -4.7792058e+00, -2.7893033e+00, -5.9192777e+00, -1.6966450e+00,\n",
              "          6.1710340e-01, -4.5927305e+00, -7.3433304e-01, -2.5412250e+00,\n",
              "         -2.8824039e+00, -2.6804008e+00, -5.8328958e+00, -4.0143862e+00,\n",
              "         -2.2326400e+00, -3.2863147e+00, -2.7911835e+00, -2.7818189e+00,\n",
              "         -2.5535583e+00, -1.6347498e+00, -1.4938681e+00, -1.8013211e+00],\n",
              "        dtype=float32)]]"
            ]
          },
          "metadata": {},
          "execution_count": 28
        }
      ]
    },
    {
      "cell_type": "code",
      "source": [
        "sober_df=pd.DataFrame(extracted_features,columns=['feature'])\n",
        "sober_df.head()"
      ],
      "metadata": {
        "colab": {
          "base_uri": "https://localhost:8080/",
          "height": 206
        },
        "id": "TtBUYp_IC97C",
        "outputId": "e7b82cce-2031-48d0-9077-65e87687b483"
      },
      "id": "TtBUYp_IC97C",
      "execution_count": 29,
      "outputs": [
        {
          "output_type": "execute_result",
          "data": {
            "text/plain": [
              "                                             feature\n",
              "0  [-332.2443, 95.10069, 15.590804, 61.487175, -1...\n",
              "1  [-336.2883, 90.738884, 13.692434, 54.91208, -1...\n",
              "2  [-308.517, 98.13648, 6.5309577, 68.84292, -16....\n",
              "3  [-306.54193, 159.83702, -44.49663, 31.003195, ...\n",
              "4  [-326.89114, 147.06741, -24.362867, 43.29041, ..."
            ],
            "text/html": [
              "\n",
              "  <div id=\"df-69ce9e0b-84bc-472f-93b3-c315d899c0f5\">\n",
              "    <div class=\"colab-df-container\">\n",
              "      <div>\n",
              "<style scoped>\n",
              "    .dataframe tbody tr th:only-of-type {\n",
              "        vertical-align: middle;\n",
              "    }\n",
              "\n",
              "    .dataframe tbody tr th {\n",
              "        vertical-align: top;\n",
              "    }\n",
              "\n",
              "    .dataframe thead th {\n",
              "        text-align: right;\n",
              "    }\n",
              "</style>\n",
              "<table border=\"1\" class=\"dataframe\">\n",
              "  <thead>\n",
              "    <tr style=\"text-align: right;\">\n",
              "      <th></th>\n",
              "      <th>feature</th>\n",
              "    </tr>\n",
              "  </thead>\n",
              "  <tbody>\n",
              "    <tr>\n",
              "      <th>0</th>\n",
              "      <td>[-332.2443, 95.10069, 15.590804, 61.487175, -1...</td>\n",
              "    </tr>\n",
              "    <tr>\n",
              "      <th>1</th>\n",
              "      <td>[-336.2883, 90.738884, 13.692434, 54.91208, -1...</td>\n",
              "    </tr>\n",
              "    <tr>\n",
              "      <th>2</th>\n",
              "      <td>[-308.517, 98.13648, 6.5309577, 68.84292, -16....</td>\n",
              "    </tr>\n",
              "    <tr>\n",
              "      <th>3</th>\n",
              "      <td>[-306.54193, 159.83702, -44.49663, 31.003195, ...</td>\n",
              "    </tr>\n",
              "    <tr>\n",
              "      <th>4</th>\n",
              "      <td>[-326.89114, 147.06741, -24.362867, 43.29041, ...</td>\n",
              "    </tr>\n",
              "  </tbody>\n",
              "</table>\n",
              "</div>\n",
              "      <button class=\"colab-df-convert\" onclick=\"convertToInteractive('df-69ce9e0b-84bc-472f-93b3-c315d899c0f5')\"\n",
              "              title=\"Convert this dataframe to an interactive table.\"\n",
              "              style=\"display:none;\">\n",
              "        \n",
              "  <svg xmlns=\"http://www.w3.org/2000/svg\" height=\"24px\"viewBox=\"0 0 24 24\"\n",
              "       width=\"24px\">\n",
              "    <path d=\"M0 0h24v24H0V0z\" fill=\"none\"/>\n",
              "    <path d=\"M18.56 5.44l.94 2.06.94-2.06 2.06-.94-2.06-.94-.94-2.06-.94 2.06-2.06.94zm-11 1L8.5 8.5l.94-2.06 2.06-.94-2.06-.94L8.5 2.5l-.94 2.06-2.06.94zm10 10l.94 2.06.94-2.06 2.06-.94-2.06-.94-.94-2.06-.94 2.06-2.06.94z\"/><path d=\"M17.41 7.96l-1.37-1.37c-.4-.4-.92-.59-1.43-.59-.52 0-1.04.2-1.43.59L10.3 9.45l-7.72 7.72c-.78.78-.78 2.05 0 2.83L4 21.41c.39.39.9.59 1.41.59.51 0 1.02-.2 1.41-.59l7.78-7.78 2.81-2.81c.8-.78.8-2.07 0-2.86zM5.41 20L4 18.59l7.72-7.72 1.47 1.35L5.41 20z\"/>\n",
              "  </svg>\n",
              "      </button>\n",
              "      \n",
              "  <style>\n",
              "    .colab-df-container {\n",
              "      display:flex;\n",
              "      flex-wrap:wrap;\n",
              "      gap: 12px;\n",
              "    }\n",
              "\n",
              "    .colab-df-convert {\n",
              "      background-color: #E8F0FE;\n",
              "      border: none;\n",
              "      border-radius: 50%;\n",
              "      cursor: pointer;\n",
              "      display: none;\n",
              "      fill: #1967D2;\n",
              "      height: 32px;\n",
              "      padding: 0 0 0 0;\n",
              "      width: 32px;\n",
              "    }\n",
              "\n",
              "    .colab-df-convert:hover {\n",
              "      background-color: #E2EBFA;\n",
              "      box-shadow: 0px 1px 2px rgba(60, 64, 67, 0.3), 0px 1px 3px 1px rgba(60, 64, 67, 0.15);\n",
              "      fill: #174EA6;\n",
              "    }\n",
              "\n",
              "    [theme=dark] .colab-df-convert {\n",
              "      background-color: #3B4455;\n",
              "      fill: #D2E3FC;\n",
              "    }\n",
              "\n",
              "    [theme=dark] .colab-df-convert:hover {\n",
              "      background-color: #434B5C;\n",
              "      box-shadow: 0px 1px 3px 1px rgba(0, 0, 0, 0.15);\n",
              "      filter: drop-shadow(0px 1px 2px rgba(0, 0, 0, 0.3));\n",
              "      fill: #FFFFFF;\n",
              "    }\n",
              "  </style>\n",
              "\n",
              "      <script>\n",
              "        const buttonEl =\n",
              "          document.querySelector('#df-69ce9e0b-84bc-472f-93b3-c315d899c0f5 button.colab-df-convert');\n",
              "        buttonEl.style.display =\n",
              "          google.colab.kernel.accessAllowed ? 'block' : 'none';\n",
              "\n",
              "        async function convertToInteractive(key) {\n",
              "          const element = document.querySelector('#df-69ce9e0b-84bc-472f-93b3-c315d899c0f5');\n",
              "          const dataTable =\n",
              "            await google.colab.kernel.invokeFunction('convertToInteractive',\n",
              "                                                     [key], {});\n",
              "          if (!dataTable) return;\n",
              "\n",
              "          const docLinkHtml = 'Like what you see? Visit the ' +\n",
              "            '<a target=\"_blank\" href=https://colab.research.google.com/notebooks/data_table.ipynb>data table notebook</a>'\n",
              "            + ' to learn more about interactive tables.';\n",
              "          element.innerHTML = '';\n",
              "          dataTable['output_type'] = 'display_data';\n",
              "          await google.colab.output.renderOutput(dataTable, element);\n",
              "          const docLink = document.createElement('div');\n",
              "          docLink.innerHTML = docLinkHtml;\n",
              "          element.appendChild(docLink);\n",
              "        }\n",
              "      </script>\n",
              "    </div>\n",
              "  </div>\n",
              "  "
            ]
          },
          "metadata": {},
          "execution_count": 29
        }
      ]
    },
    {
      "cell_type": "code",
      "source": [
        "final_class = ['sober','sober','sober','sober','sober','sober','sober','sober','sober','sober']"
      ],
      "metadata": {
        "id": "5MCOQkeJDsMz"
      },
      "id": "5MCOQkeJDsMz",
      "execution_count": 30,
      "outputs": []
    },
    {
      "cell_type": "code",
      "source": [
        "sober_df['class'] = final_class"
      ],
      "metadata": {
        "id": "tFSsBCs4Dec9"
      },
      "id": "tFSsBCs4Dec9",
      "execution_count": 31,
      "outputs": []
    },
    {
      "cell_type": "code",
      "source": [
        "final_class = ['intoxicated','intoxicated','intoxicated','intoxicated','intoxicated','intoxicated','intoxicated','intoxicated','intoxicated','intoxicated','intoxicated','intoxicated','intoxicated','intoxicated','intoxicated','intoxicated']"
      ],
      "metadata": {
        "id": "r4F_KwuIEQLu"
      },
      "id": "r4F_KwuIEQLu",
      "execution_count": 32,
      "outputs": []
    },
    {
      "cell_type": "code",
      "source": [
        "intox_df['class'] = final_class"
      ],
      "metadata": {
        "id": "hCSiI3cFErP6"
      },
      "id": "hCSiI3cFErP6",
      "execution_count": 33,
      "outputs": []
    },
    {
      "cell_type": "code",
      "source": [
        "final_df = pd.concat([intox_df,sober_df])"
      ],
      "metadata": {
        "id": "dYi1oruUFjVk"
      },
      "id": "dYi1oruUFjVk",
      "execution_count": 34,
      "outputs": []
    },
    {
      "cell_type": "code",
      "source": [
        "final_df.head()"
      ],
      "metadata": {
        "colab": {
          "base_uri": "https://localhost:8080/",
          "height": 206
        },
        "id": "PZOS6cpCGnOc",
        "outputId": "ad89f98c-406f-422f-9239-69ea646ceb28"
      },
      "id": "PZOS6cpCGnOc",
      "execution_count": 35,
      "outputs": [
        {
          "output_type": "execute_result",
          "data": {
            "text/plain": [
              "                                             feature        class\n",
              "0  [-236.71407, 123.0499, -35.074585, 26.170708, ...  intoxicated\n",
              "1  [-279.6833, 112.372925, -19.649042, 46.854977,...  intoxicated\n",
              "2  [-255.39215, 108.354294, -35.296665, 44.338017...  intoxicated\n",
              "3  [-239.61761, 131.22644, -37.77829, 37.023933, ...  intoxicated\n",
              "4  [-261.1549, 118.04133, -22.051928, 52.889355, ...  intoxicated"
            ],
            "text/html": [
              "\n",
              "  <div id=\"df-30587aa7-b266-4f30-aa6c-0e80856cd753\">\n",
              "    <div class=\"colab-df-container\">\n",
              "      <div>\n",
              "<style scoped>\n",
              "    .dataframe tbody tr th:only-of-type {\n",
              "        vertical-align: middle;\n",
              "    }\n",
              "\n",
              "    .dataframe tbody tr th {\n",
              "        vertical-align: top;\n",
              "    }\n",
              "\n",
              "    .dataframe thead th {\n",
              "        text-align: right;\n",
              "    }\n",
              "</style>\n",
              "<table border=\"1\" class=\"dataframe\">\n",
              "  <thead>\n",
              "    <tr style=\"text-align: right;\">\n",
              "      <th></th>\n",
              "      <th>feature</th>\n",
              "      <th>class</th>\n",
              "    </tr>\n",
              "  </thead>\n",
              "  <tbody>\n",
              "    <tr>\n",
              "      <th>0</th>\n",
              "      <td>[-236.71407, 123.0499, -35.074585, 26.170708, ...</td>\n",
              "      <td>intoxicated</td>\n",
              "    </tr>\n",
              "    <tr>\n",
              "      <th>1</th>\n",
              "      <td>[-279.6833, 112.372925, -19.649042, 46.854977,...</td>\n",
              "      <td>intoxicated</td>\n",
              "    </tr>\n",
              "    <tr>\n",
              "      <th>2</th>\n",
              "      <td>[-255.39215, 108.354294, -35.296665, 44.338017...</td>\n",
              "      <td>intoxicated</td>\n",
              "    </tr>\n",
              "    <tr>\n",
              "      <th>3</th>\n",
              "      <td>[-239.61761, 131.22644, -37.77829, 37.023933, ...</td>\n",
              "      <td>intoxicated</td>\n",
              "    </tr>\n",
              "    <tr>\n",
              "      <th>4</th>\n",
              "      <td>[-261.1549, 118.04133, -22.051928, 52.889355, ...</td>\n",
              "      <td>intoxicated</td>\n",
              "    </tr>\n",
              "  </tbody>\n",
              "</table>\n",
              "</div>\n",
              "      <button class=\"colab-df-convert\" onclick=\"convertToInteractive('df-30587aa7-b266-4f30-aa6c-0e80856cd753')\"\n",
              "              title=\"Convert this dataframe to an interactive table.\"\n",
              "              style=\"display:none;\">\n",
              "        \n",
              "  <svg xmlns=\"http://www.w3.org/2000/svg\" height=\"24px\"viewBox=\"0 0 24 24\"\n",
              "       width=\"24px\">\n",
              "    <path d=\"M0 0h24v24H0V0z\" fill=\"none\"/>\n",
              "    <path d=\"M18.56 5.44l.94 2.06.94-2.06 2.06-.94-2.06-.94-.94-2.06-.94 2.06-2.06.94zm-11 1L8.5 8.5l.94-2.06 2.06-.94-2.06-.94L8.5 2.5l-.94 2.06-2.06.94zm10 10l.94 2.06.94-2.06 2.06-.94-2.06-.94-.94-2.06-.94 2.06-2.06.94z\"/><path d=\"M17.41 7.96l-1.37-1.37c-.4-.4-.92-.59-1.43-.59-.52 0-1.04.2-1.43.59L10.3 9.45l-7.72 7.72c-.78.78-.78 2.05 0 2.83L4 21.41c.39.39.9.59 1.41.59.51 0 1.02-.2 1.41-.59l7.78-7.78 2.81-2.81c.8-.78.8-2.07 0-2.86zM5.41 20L4 18.59l7.72-7.72 1.47 1.35L5.41 20z\"/>\n",
              "  </svg>\n",
              "      </button>\n",
              "      \n",
              "  <style>\n",
              "    .colab-df-container {\n",
              "      display:flex;\n",
              "      flex-wrap:wrap;\n",
              "      gap: 12px;\n",
              "    }\n",
              "\n",
              "    .colab-df-convert {\n",
              "      background-color: #E8F0FE;\n",
              "      border: none;\n",
              "      border-radius: 50%;\n",
              "      cursor: pointer;\n",
              "      display: none;\n",
              "      fill: #1967D2;\n",
              "      height: 32px;\n",
              "      padding: 0 0 0 0;\n",
              "      width: 32px;\n",
              "    }\n",
              "\n",
              "    .colab-df-convert:hover {\n",
              "      background-color: #E2EBFA;\n",
              "      box-shadow: 0px 1px 2px rgba(60, 64, 67, 0.3), 0px 1px 3px 1px rgba(60, 64, 67, 0.15);\n",
              "      fill: #174EA6;\n",
              "    }\n",
              "\n",
              "    [theme=dark] .colab-df-convert {\n",
              "      background-color: #3B4455;\n",
              "      fill: #D2E3FC;\n",
              "    }\n",
              "\n",
              "    [theme=dark] .colab-df-convert:hover {\n",
              "      background-color: #434B5C;\n",
              "      box-shadow: 0px 1px 3px 1px rgba(0, 0, 0, 0.15);\n",
              "      filter: drop-shadow(0px 1px 2px rgba(0, 0, 0, 0.3));\n",
              "      fill: #FFFFFF;\n",
              "    }\n",
              "  </style>\n",
              "\n",
              "      <script>\n",
              "        const buttonEl =\n",
              "          document.querySelector('#df-30587aa7-b266-4f30-aa6c-0e80856cd753 button.colab-df-convert');\n",
              "        buttonEl.style.display =\n",
              "          google.colab.kernel.accessAllowed ? 'block' : 'none';\n",
              "\n",
              "        async function convertToInteractive(key) {\n",
              "          const element = document.querySelector('#df-30587aa7-b266-4f30-aa6c-0e80856cd753');\n",
              "          const dataTable =\n",
              "            await google.colab.kernel.invokeFunction('convertToInteractive',\n",
              "                                                     [key], {});\n",
              "          if (!dataTable) return;\n",
              "\n",
              "          const docLinkHtml = 'Like what you see? Visit the ' +\n",
              "            '<a target=\"_blank\" href=https://colab.research.google.com/notebooks/data_table.ipynb>data table notebook</a>'\n",
              "            + ' to learn more about interactive tables.';\n",
              "          element.innerHTML = '';\n",
              "          dataTable['output_type'] = 'display_data';\n",
              "          await google.colab.output.renderOutput(dataTable, element);\n",
              "          const docLink = document.createElement('div');\n",
              "          docLink.innerHTML = docLinkHtml;\n",
              "          element.appendChild(docLink);\n",
              "        }\n",
              "      </script>\n",
              "    </div>\n",
              "  </div>\n",
              "  "
            ]
          },
          "metadata": {},
          "execution_count": 35
        }
      ]
    },
    {
      "cell_type": "code",
      "source": [
        "final_df = final_df.sample(frac = 1)"
      ],
      "metadata": {
        "id": "6KlMu7h3H1_A"
      },
      "id": "6KlMu7h3H1_A",
      "execution_count": 36,
      "outputs": []
    },
    {
      "cell_type": "code",
      "execution_count": 37,
      "id": "characteristic-sudan",
      "metadata": {
        "id": "characteristic-sudan"
      },
      "outputs": [],
      "source": [
        "### Split the dataset into independent and dependent dataset\n",
        "X=np.array(final_df['feature'].tolist())\n",
        "y=np.array(final_df['class'].tolist())"
      ]
    },
    {
      "cell_type": "code",
      "execution_count": 38,
      "id": "friendly-placement",
      "metadata": {
        "colab": {
          "base_uri": "https://localhost:8080/"
        },
        "id": "friendly-placement",
        "outputId": "89c28f5e-88c4-4d24-bada-e5dad98d2184"
      },
      "outputs": [
        {
          "output_type": "execute_result",
          "data": {
            "text/plain": [
              "(26, 40)"
            ]
          },
          "metadata": {},
          "execution_count": 38
        }
      ],
      "source": [
        "X.shape"
      ]
    },
    {
      "cell_type": "code",
      "execution_count": 39,
      "id": "japanese-cheese",
      "metadata": {
        "colab": {
          "base_uri": "https://localhost:8080/"
        },
        "id": "japanese-cheese",
        "outputId": "50c9f21c-b825-4dd4-bd10-88166767d84b"
      },
      "outputs": [
        {
          "output_type": "execute_result",
          "data": {
            "text/plain": [
              "array(['sober', 'sober', 'intoxicated', 'intoxicated', 'intoxicated',\n",
              "       'sober', 'sober', 'intoxicated', 'intoxicated', 'intoxicated',\n",
              "       'sober', 'intoxicated', 'sober', 'intoxicated', 'sober',\n",
              "       'intoxicated', 'sober', 'intoxicated', 'intoxicated',\n",
              "       'intoxicated', 'intoxicated', 'sober', 'intoxicated',\n",
              "       'intoxicated', 'intoxicated', 'sober'], dtype='<U11')"
            ]
          },
          "metadata": {},
          "execution_count": 39
        }
      ],
      "source": [
        "y"
      ]
    },
    {
      "cell_type": "code",
      "execution_count": 40,
      "id": "wired-church",
      "metadata": {
        "id": "wired-church"
      },
      "outputs": [],
      "source": [
        "### Label Encoding\n",
        "###y=np.array(pd.get_dummies(y))\n",
        "### Label Encoder\n",
        "from tensorflow.keras.utils import to_categorical\n",
        "from sklearn.preprocessing import LabelEncoder\n",
        "labelencoder=LabelEncoder()\n",
        "y=to_categorical(labelencoder.fit_transform(y))"
      ]
    },
    {
      "cell_type": "code",
      "execution_count": 41,
      "id": "sitting-anniversary",
      "metadata": {
        "colab": {
          "base_uri": "https://localhost:8080/"
        },
        "id": "sitting-anniversary",
        "outputId": "f8ecb397-c3b9-443d-93e6-a372490ab1d4"
      },
      "outputs": [
        {
          "output_type": "execute_result",
          "data": {
            "text/plain": [
              "array([[0., 1.],\n",
              "       [0., 1.],\n",
              "       [1., 0.],\n",
              "       [1., 0.],\n",
              "       [1., 0.],\n",
              "       [0., 1.],\n",
              "       [0., 1.],\n",
              "       [1., 0.],\n",
              "       [1., 0.],\n",
              "       [1., 0.],\n",
              "       [0., 1.],\n",
              "       [1., 0.],\n",
              "       [0., 1.],\n",
              "       [1., 0.],\n",
              "       [0., 1.],\n",
              "       [1., 0.],\n",
              "       [0., 1.],\n",
              "       [1., 0.],\n",
              "       [1., 0.],\n",
              "       [1., 0.],\n",
              "       [1., 0.],\n",
              "       [0., 1.],\n",
              "       [1., 0.],\n",
              "       [1., 0.],\n",
              "       [1., 0.],\n",
              "       [0., 1.]], dtype=float32)"
            ]
          },
          "metadata": {},
          "execution_count": 41
        }
      ],
      "source": [
        "y"
      ]
    },
    {
      "cell_type": "code",
      "execution_count": 42,
      "id": "documentary-priority",
      "metadata": {
        "id": "documentary-priority"
      },
      "outputs": [],
      "source": [
        "### Train Test Split\n",
        "from sklearn.model_selection import train_test_split\n",
        "X_train,X_test,y_train,y_test=train_test_split(X,y,test_size=0.2,random_state=0)"
      ]
    },
    {
      "cell_type": "code",
      "execution_count": 43,
      "id": "analyzed-payday",
      "metadata": {
        "colab": {
          "base_uri": "https://localhost:8080/"
        },
        "id": "analyzed-payday",
        "outputId": "f58d255d-4bcb-4803-dc5e-dc4bf7d54fb7"
      },
      "outputs": [
        {
          "output_type": "execute_result",
          "data": {
            "text/plain": [
              "array([[-2.27534821e+02,  1.20139534e+02, -3.16259594e+01,\n",
              "         4.43649483e+01, -5.82913494e+00,  1.69867344e+01,\n",
              "        -2.71760235e+01, -1.54918785e+01, -1.72285252e+01,\n",
              "        -4.35031843e+00, -2.05993342e+00, -9.78098965e+00,\n",
              "        -1.91967773e+00, -1.89495773e+01, -6.38626957e+00,\n",
              "        -1.36303830e+00, -1.14683018e+01, -8.58402157e+00,\n",
              "        -2.37768793e+00, -1.47675781e+01, -3.64644933e+00,\n",
              "        -4.35724497e+00, -6.72507334e+00, -1.06555834e-01,\n",
              "        -3.33440638e+00, -3.42065835e+00, -6.57723999e+00,\n",
              "         3.20461798e+00, -5.42420673e+00, -1.11679900e+00,\n",
              "        -3.78382659e+00, -1.01853285e+01, -1.33996236e+00,\n",
              "        -6.97418118e+00, -5.25634623e+00, -5.72257471e+00,\n",
              "        -1.29589498e+00, -3.89189935e+00, -5.55982351e+00,\n",
              "        -1.42105424e+00],\n",
              "       [-2.90166077e+02,  1.14841507e+02, -2.28338852e+01,\n",
              "         3.03191700e+01, -1.01202068e+01,  3.92508602e+00,\n",
              "        -2.60684242e+01, -1.95474510e+01, -8.14253998e+00,\n",
              "        -1.56276197e+01,  2.54697466e+00, -4.52712536e+00,\n",
              "        -3.27486086e+00, -5.79802752e+00, -3.07587290e+00,\n",
              "        -4.02986860e+00, -1.07819014e+01,  3.13626677e-01,\n",
              "        -4.26177359e+00, -6.20662737e+00, -3.19708323e+00,\n",
              "        -8.88973713e+00, -2.36048388e+00, -7.82833481e+00,\n",
              "        -8.14462376e+00, -3.90212369e+00, -8.33377743e+00,\n",
              "        -3.70276086e-02, -6.25426960e+00, -6.17356539e+00,\n",
              "        -2.27898431e+00, -6.08859015e+00, -5.90367317e+00,\n",
              "        -7.91535568e+00, -4.93426609e+00, -5.31892490e+00,\n",
              "        -3.84148216e+00, -2.84106803e+00, -1.11117196e+00,\n",
              "         2.02828741e+00],\n",
              "       [-2.61794006e+02,  1.21273270e+02, -2.06790752e+01,\n",
              "         3.90485382e+01, -6.16795599e-01,  9.51484776e+00,\n",
              "        -2.64415836e+01, -4.80235720e+00, -1.22646303e+01,\n",
              "        -1.16798649e+01, -2.01898742e+00, -9.17696476e+00,\n",
              "        -5.54630756e+00, -1.12354307e+01, -5.22946119e+00,\n",
              "        -4.76588440e+00, -6.86053276e+00, -3.97932816e+00,\n",
              "         1.51343191e+00, -6.66045332e+00, -5.24810791e+00,\n",
              "        -4.00933075e+00, -1.00694513e+01, -1.23583927e+01,\n",
              "        -6.00438404e+00, -5.29898882e+00, -1.10561275e+01,\n",
              "        -2.65884995e-01, -4.68859673e+00, -3.13372898e+00,\n",
              "        -5.97454405e+00, -5.50577068e+00, -2.18721223e+00,\n",
              "        -6.09918928e+00, -8.80051792e-01, -5.09157515e+00,\n",
              "        -4.40107775e+00, -8.74876308e+00, -2.63849688e+00,\n",
              "        -1.64589107e+00],\n",
              "       [-2.61154907e+02,  1.18041328e+02, -2.20519276e+01,\n",
              "         5.28893547e+01, -1.11439829e+01, -1.15897007e+01,\n",
              "        -1.72468700e+01, -7.69381857e+00, -1.17816353e+01,\n",
              "        -6.10491276e+00, -3.23717999e+00, -9.95437717e+00,\n",
              "         1.40797451e-01, -5.74838829e+00,  2.94190240e+00,\n",
              "        -8.76788616e+00, -6.40303135e+00,  5.50059080e-01,\n",
              "        -1.05712690e+01, -6.60598183e+00, -4.99941874e+00,\n",
              "        -6.04610157e+00, -4.08991385e+00, -7.43564272e+00,\n",
              "        -4.99059582e+00, -4.23069143e+00, -7.86159086e+00,\n",
              "        -2.69289923e+00, -8.09860229e+00, -6.58289385e+00,\n",
              "        -5.52606583e+00, -5.61974049e+00, -1.40657473e+00,\n",
              "        -4.88674068e+00, -2.35917711e+00, -4.57260799e+00,\n",
              "        -2.50380683e+00, -3.05890179e+00, -5.02778912e+00,\n",
              "        -1.73835099e+00],\n",
              "       [-3.36288300e+02,  9.07388840e+01,  1.36924343e+01,\n",
              "         5.49120789e+01, -1.41603231e+01,  9.77719498e+00,\n",
              "        -1.98551826e+01, -9.86478209e-01, -1.07184553e+01,\n",
              "         6.27037907e+00, -2.69903679e+01,  4.00835371e+00,\n",
              "        -6.14092827e+00, -1.74008865e+01,  2.38661814e+00,\n",
              "        -7.87339735e+00, -3.70479846e+00,  3.30957562e-01,\n",
              "        -8.51161671e+00, -6.44847202e+00, -2.47947097e-01,\n",
              "        -3.90382624e+00, -1.03422575e+01,  4.47350413e-01,\n",
              "        -6.33474159e+00, -7.68162918e+00, -5.71776211e-01,\n",
              "        -6.16961861e+00, -3.90085101e+00, -4.52350616e+00,\n",
              "        -2.71906972e+00, -7.69408941e+00, -3.01831627e+00,\n",
              "        -5.58823538e+00,  1.34558809e+00,  5.64477968e+00,\n",
              "         8.74485016e+00,  9.58266449e+00,  1.18874340e+01,\n",
              "         9.72118092e+00],\n",
              "       [-3.16338593e+02,  1.38797058e+02, -1.68180122e+01,\n",
              "         9.95789433e+00, -8.03714275e+00, -6.64743710e+00,\n",
              "        -2.67009315e+01, -9.68362427e+00, -2.19833603e+01,\n",
              "        -2.92693114e+00, -1.35002193e+01, -6.78018236e+00,\n",
              "        -3.58718491e+00, -1.35142632e+01,  2.64238954e+00,\n",
              "        -8.49108410e+00, -8.51132584e+00, -4.03227758e+00,\n",
              "        -5.08958101e+00, -6.68908787e+00, -8.19196796e+00,\n",
              "        -2.48476967e-01, -1.11982594e+01, -7.48096645e-01,\n",
              "        -6.11845350e+00, -4.83782721e+00, -1.43360949e+00,\n",
              "        -4.23867273e+00, -1.80651152e+00, -4.67174625e+00,\n",
              "        -1.71896005e+00, -4.82314539e+00, -1.82649300e-01,\n",
              "        -3.48182416e+00,  2.67952704e-03, -9.20710638e-02,\n",
              "        -1.89146698e-01, -3.22500288e-01,  1.91679075e-01,\n",
              "         8.47049415e-01],\n",
              "       [-3.32244293e+02,  9.51006927e+01,  1.55908041e+01,\n",
              "         6.14871750e+01, -1.71298714e+01,  8.62041187e+00,\n",
              "        -5.04444218e+00, -9.63445568e+00, -1.04367676e+01,\n",
              "         1.16878605e+01, -2.92435932e+01,  7.91392469e+00,\n",
              "         4.21474457e-01, -1.67266598e+01,  3.60134673e+00,\n",
              "        -4.89031506e+00, -6.07975245e+00,  6.03955889e+00,\n",
              "        -2.54650283e+00, -1.09190149e+01,  4.91216040e+00,\n",
              "        -4.88986254e+00, -7.95496559e+00,  1.91679347e+00,\n",
              "        -4.41240454e+00, -5.40682030e+00,  3.56945252e+00,\n",
              "        -4.41986561e+00, -7.20499158e-01,  1.30562019e+00,\n",
              "        -4.00250673e+00, -5.98807693e-01,  2.70817578e-01,\n",
              "        -6.32490635e+00, -4.15306926e-01, -9.04877901e-01,\n",
              "        -3.49608397e+00, -9.37517405e-01, -3.01453304e+00,\n",
              "        -4.62748289e+00],\n",
              "       [-4.13516968e+02,  1.14599335e+02,  9.00590611e+00,\n",
              "         1.17064848e+01, -4.28931761e+00,  7.45134020e+00,\n",
              "        -1.83738518e+01, -1.74238777e+01, -1.59913864e+01,\n",
              "        -1.54615664e+00, -8.22808075e+00, -1.19305859e+01,\n",
              "        -8.73424244e+00, -6.82275534e+00, -1.11612344e+00,\n",
              "        -1.23484058e+01, -4.91737223e+00, -6.19514513e+00,\n",
              "        -9.58459282e+00, -3.95521808e+00, -8.85088634e+00,\n",
              "        -5.61436749e+00, -7.98797035e+00, -3.19016957e+00,\n",
              "        -6.32865191e+00, -3.70902967e+00, -4.90591431e+00,\n",
              "        -5.51040125e+00, -2.20049548e+00, -3.46210790e+00,\n",
              "         2.36582804e+00,  5.83683848e-01,  4.70804358e+00,\n",
              "         5.44856453e+00,  5.11800528e+00,  4.25305939e+00,\n",
              "         5.88945627e+00,  4.47224903e+00,  4.42987299e+00,\n",
              "         4.73210192e+00],\n",
              "       [-2.87388031e+02,  1.17930824e+02, -1.96120930e+01,\n",
              "         4.35550537e+01, -5.64263439e+00, -1.96785617e+00,\n",
              "        -1.19192667e+01, -1.29229240e+01, -4.89090967e+00,\n",
              "        -8.82290745e+00, -1.00758753e+01, -9.68589783e+00,\n",
              "        -6.15440559e+00, -6.28245735e+00, -3.66087294e+00,\n",
              "        -4.78131199e+00, -5.51843643e+00, -4.70451212e+00,\n",
              "        -2.55442905e+00, -8.17357349e+00, -2.86548519e+00,\n",
              "        -6.77583075e+00, -7.32376671e+00, -2.25686955e+00,\n",
              "        -6.36612034e+00, -2.94071746e+00, -3.59631753e+00,\n",
              "        -1.65123188e+00, -7.28491592e+00, -4.63657475e+00,\n",
              "        -4.83150816e+00, -8.93473148e+00, -5.51386547e+00,\n",
              "        -5.81833315e+00, -4.46722126e+00, -5.81433773e+00,\n",
              "        -1.48240185e+00, -4.40727949e+00, -3.93918109e+00,\n",
              "        -2.30140305e+00],\n",
              "       [-2.03608902e+02,  1.29483307e+02, -3.43370934e+01,\n",
              "         3.95597649e+01, -3.87373495e+00, -8.01079559e+00,\n",
              "        -1.93702583e+01, -1.04608088e+01, -1.85424995e+01,\n",
              "        -9.57968807e+00, -1.39220066e+01, -1.26492901e+01,\n",
              "         5.91038346e-01, -1.57635298e+01, -6.86152887e+00,\n",
              "        -5.26181650e+00, -9.22317791e+00, -1.08848553e+01,\n",
              "        -1.06750546e+01, -8.57801914e+00, -2.31522012e+00,\n",
              "        -5.24322557e+00, -1.27860584e+01, -1.09568987e+01,\n",
              "        -7.55316019e+00, -3.60148478e+00, -8.63008690e+00,\n",
              "        -2.86068702e+00, -3.83876443e-01, -2.94552350e+00,\n",
              "        -2.22556448e+00,  1.06216490e+00,  1.02614534e+00,\n",
              "         2.27703571e+00,  4.98933983e+00, -4.24734259e+00,\n",
              "        -8.70401800e-01, -6.47263408e-01, -1.45426488e+00,\n",
              "         2.97219038e+00],\n",
              "       [-3.52726715e+02,  1.70169434e+02, -3.16086044e+01,\n",
              "         3.25543442e+01,  6.73799932e-01, -9.29108715e+00,\n",
              "        -1.77649441e+01,  1.40989685e+00, -5.25637341e+00,\n",
              "        -1.44869432e+01, -3.00416636e+00, -1.06398373e+01,\n",
              "        -4.18505192e+00, -8.23349857e+00,  3.08527541e+00,\n",
              "        -2.89668107e+00, -1.14539509e+01, -2.45230243e-01,\n",
              "        -7.56324434e+00, -7.91402531e+00, -4.77920580e+00,\n",
              "        -2.78930330e+00, -5.91927767e+00, -1.69664502e+00,\n",
              "         6.17103398e-01, -4.59273052e+00, -7.34333038e-01,\n",
              "        -2.54122496e+00, -2.88240385e+00, -2.68040085e+00,\n",
              "        -5.83289576e+00, -4.01438618e+00, -2.23264003e+00,\n",
              "        -3.28631473e+00, -2.79118347e+00, -2.78181887e+00,\n",
              "        -2.55355835e+00, -1.63474977e+00, -1.49386811e+00,\n",
              "        -1.80132115e+00],\n",
              "       [-2.55392151e+02,  1.08354294e+02, -3.52966652e+01,\n",
              "         4.43380165e+01, -1.63011036e+01,  2.95186996e+00,\n",
              "        -1.77744312e+01, -8.74639606e+00, -1.42882986e+01,\n",
              "         3.51199102e+00, -1.00950823e+01, -1.01705570e+01,\n",
              "         6.60898161e+00, -1.71491528e+01, -1.30311024e+00,\n",
              "        -2.17466545e+00, -1.35793362e+01, -2.18210340e+00,\n",
              "         8.45715106e-01, -8.22737122e+00, -3.82890964e+00,\n",
              "        -2.98466921e+00, -3.57512856e+00, -4.42918921e+00,\n",
              "        -7.29653597e+00,  1.09331191e+00, -8.07045174e+00,\n",
              "        -1.00954437e+00, -6.35845470e+00, -4.97427082e+00,\n",
              "        -1.57021296e+00, -6.77324343e+00, -2.42029881e+00,\n",
              "        -7.89878798e+00, -2.57716060e+00, -6.94316006e+00,\n",
              "        -1.61338472e+00, -2.91255116e+00, -2.31733727e+00,\n",
              "         1.50776875e+00],\n",
              "       [-1.94686829e+02,  1.36646027e+02, -5.83579102e+01,\n",
              "         4.12956619e+01, -3.15673709e-01, -7.67365551e+00,\n",
              "        -1.91532764e+01, -1.68174839e+01, -9.49203110e+00,\n",
              "        -1.20634060e+01, -9.70806408e+00, -3.58052945e+00,\n",
              "        -7.88668108e+00, -8.17683506e+00, -5.38445234e+00,\n",
              "        -1.40199451e+01, -4.12912703e+00, -9.99766731e+00,\n",
              "        -1.07806091e+01, -9.40262508e+00, -8.89433956e+00,\n",
              "        -6.16331816e+00, -4.30606508e+00, -5.04999995e-01,\n",
              "        -2.72492981e+00, -2.72525620e+00, -9.50227833e+00,\n",
              "        -4.45285130e+00, -1.88775754e+00, -3.88023472e+00,\n",
              "        -4.86329889e+00, -2.42353392e+00, -1.12162840e+00,\n",
              "        -4.28047991e+00,  1.54001161e-01, -1.86328673e+00,\n",
              "         7.08100975e-01, -2.93023658e+00, -2.69057536e+00,\n",
              "         1.28094542e+00],\n",
              "       [-2.63111084e+02,  1.04916351e+02, -1.95568600e+01,\n",
              "         3.03485851e+01, -1.23063650e+01,  6.59119785e-01,\n",
              "        -1.66675282e+01, -9.84978962e+00, -1.67474766e+01,\n",
              "        -6.98179102e+00, -2.52598763e+00, -1.25645285e+01,\n",
              "        -5.71084690e+00, -3.02536845e+00,  6.04593873e-01,\n",
              "        -1.37821388e+01, -3.46308398e+00, -5.38379908e+00,\n",
              "        -1.24585285e+01, -5.06785774e+00, -3.30542302e+00,\n",
              "        -1.08043060e+01, -7.52844381e+00, -4.77338839e+00,\n",
              "        -1.21722240e+01, -4.81817627e+00, -1.05594225e+01,\n",
              "        -7.88895988e+00, -7.58998680e+00, -7.81442070e+00,\n",
              "        -3.09355903e+00, -4.56723070e+00,  1.71138096e+00,\n",
              "         3.20986748e+00,  4.51615477e+00,  2.65533233e+00,\n",
              "         4.66440105e+00,  5.50079489e+00,  3.54936194e+00,\n",
              "         1.57198167e+00],\n",
              "       [-2.54678360e+02,  9.20087051e+01, -3.92413139e+01,\n",
              "         9.37269306e+00, -2.40029030e+01, -1.91473923e+01,\n",
              "        -1.71894283e+01, -7.25900459e+00, -2.35231972e+01,\n",
              "         2.37583303e+00, -6.02708101e+00, -1.72271252e+01,\n",
              "         1.58309925e+00, -1.26714802e+01, -9.40572643e+00,\n",
              "        -1.15887651e+01, -1.44656353e+01, -9.79032898e+00,\n",
              "        -3.21327901e+00, -1.20865107e+00,  6.64282990e+00,\n",
              "         1.17772951e+01,  6.72908545e+00,  2.92555737e+00,\n",
              "         2.65404725e+00,  1.53884733e+00, -3.75698149e-01,\n",
              "         4.68092346e+00, -5.34016275e+00, -5.38854694e+00,\n",
              "        -3.81616664e+00, -1.99009728e+00, -8.00402224e-01,\n",
              "        -6.85795164e+00, -4.51775026e+00, -6.27617121e+00,\n",
              "        -1.54178989e+00, -3.47611141e+00, -2.02903318e+00,\n",
              "         2.87422538e+00],\n",
              "       [-2.39617615e+02,  1.31226440e+02, -3.77782898e+01,\n",
              "         3.70239334e+01, -3.50328779e+00, -1.87425003e+01,\n",
              "        -1.99360065e+01, -1.13646231e+01, -2.61577339e+01,\n",
              "        -4.18044329e+00, -1.33823121e+00, -1.43047037e+01,\n",
              "         7.70495459e-02, -9.31289673e+00,  4.41622376e-01,\n",
              "        -5.79294205e+00, -1.28599091e+01, -1.59952378e+00,\n",
              "        -4.04681683e+00, -1.06211634e+01, -3.62206841e+00,\n",
              "        -3.98845458e+00, -9.21460915e+00, -7.09448719e+00,\n",
              "        -7.15413427e+00, -7.39593983e+00, -8.24248409e+00,\n",
              "        -3.19207525e+00, -5.49110365e+00, -3.35927629e+00,\n",
              "        -2.73876476e+00, -3.69540524e+00, -3.89720488e+00,\n",
              "        -3.38352156e+00,  1.44695675e+00, -1.13170660e+00,\n",
              "         3.10726047e+00,  2.72676319e-01, -1.06103197e-01,\n",
              "         2.92109585e+00],\n",
              "       [-3.08516998e+02,  9.81364822e+01,  6.53095770e+00,\n",
              "         6.88429184e+01, -1.63151207e+01,  3.50361919e+00,\n",
              "        -1.44315233e+01, -3.02393031e+00, -7.89661837e+00,\n",
              "         8.07765293e+00, -3.10308971e+01,  5.80838728e+00,\n",
              "         1.46865392e+00, -1.63465405e+01,  2.15444851e+00,\n",
              "        -6.28183556e+00, -3.81316090e+00,  4.38077021e+00,\n",
              "        -6.93001604e+00, -7.26900530e+00,  2.01355624e+00,\n",
              "        -5.74142027e+00, -8.55738354e+00,  1.08626628e+00,\n",
              "        -4.61326313e+00, -6.54893541e+00,  3.42915559e+00,\n",
              "        -2.52938294e+00, -1.35851598e+00,  5.30913293e-01,\n",
              "        -2.56087351e+00, -2.57623243e+00,  5.62029541e-01,\n",
              "        -6.15898514e+00, -4.35951650e-01, -7.89971769e-01,\n",
              "        -3.00004864e+00, -1.71998131e+00, -2.87649250e+00,\n",
              "        -4.79877520e+00],\n",
              "       [-3.26891144e+02,  1.47067413e+02, -2.43628674e+01,\n",
              "         4.32904091e+01, -4.69078541e+00, -2.39831042e+00,\n",
              "        -9.55021477e+00, -8.59289169e+00, -1.56340628e+01,\n",
              "         7.47576761e+00, -1.77638721e+01,  1.71172246e-01,\n",
              "        -1.07518320e+01, -1.11664829e+01,  6.19150281e-01,\n",
              "        -1.03212824e+01, -7.30702782e+00, -4.43890095e+00,\n",
              "        -5.34103870e-01, -1.04985447e+01, -8.05269909e+00,\n",
              "        -3.47872758e+00, -6.52886629e+00, -6.60369205e+00,\n",
              "        -3.29646301e+00, -4.24567938e+00, -2.41938686e+00,\n",
              "        -1.36677206e+00, -2.76897311e+00, -2.70447046e-01,\n",
              "        -1.03305972e+00, -4.28976297e+00,  1.35833251e+00,\n",
              "        -4.28064442e+00, -1.57716393e+00, -3.53324056e+00,\n",
              "        -3.68744636e+00, -3.56440806e+00, -3.47790813e+00,\n",
              "        -2.46369386e+00],\n",
              "       [-2.50294037e+02,  1.13149872e+02, -2.43380527e+01,\n",
              "         3.83134727e+01, -1.29551697e+01,  9.67150211e+00,\n",
              "        -1.20883541e+01, -1.08676682e+01, -1.74478664e+01,\n",
              "        -6.04291797e-01, -1.40172081e+01, -5.31060553e+00,\n",
              "         3.82944226e+00, -1.47535744e+01,  2.81413794e+00,\n",
              "        -6.28576088e+00, -9.43465805e+00, -7.21989107e+00,\n",
              "        -1.80328608e+00, -8.96253872e+00, -4.96238804e+00,\n",
              "        -3.96948874e-01, -4.43033838e+00, -5.20317745e+00,\n",
              "        -4.92218781e+00, -2.46951437e+00, -9.32620430e+00,\n",
              "         1.37376428e-01, -6.67046452e+00, -3.84837484e+00,\n",
              "        -3.54190207e+00, -6.38319826e+00, -2.88569021e+00,\n",
              "        -7.46493673e+00, -1.23864305e+00, -6.82793713e+00,\n",
              "        -1.80979717e+00, -2.02903008e+00, -4.40732336e+00,\n",
              "        -1.68840396e+00],\n",
              "       [-3.15386169e+02,  1.43975037e+02, -1.97851219e+01,\n",
              "         2.14099827e+01, -1.33735809e+01, -6.08857107e+00,\n",
              "        -2.41796074e+01, -1.48189211e+01, -5.81381845e+00,\n",
              "        -1.02770386e+01, -4.74098015e+00, -6.80330706e+00,\n",
              "         2.24626660e+00, -6.29538679e+00, -8.63182545e+00,\n",
              "        -2.26259065e+00, -7.06140614e+00, -9.65570164e+00,\n",
              "        -3.23190117e+00, -1.22454500e+00, -1.47612166e+00,\n",
              "        -1.56405300e-01, -5.21533298e+00, -4.09377813e+00,\n",
              "        -1.20665979e+00, -4.24739838e+00, -6.48734140e+00,\n",
              "        -3.44031882e+00, -4.44577503e+00, -5.10911608e+00,\n",
              "        -2.35204649e+00, -3.85664487e+00, -2.15419412e+00,\n",
              "        -2.27077866e+00, -2.33277678e+00, -2.19106984e+00,\n",
              "        -2.23086238e+00, -3.24700713e+00, -3.11368942e+00,\n",
              "        -1.87729311e+00]], dtype=float32)"
            ]
          },
          "metadata": {},
          "execution_count": 43
        }
      ],
      "source": [
        "X_train"
      ]
    },
    {
      "cell_type": "code",
      "execution_count": 44,
      "id": "female-study",
      "metadata": {
        "colab": {
          "base_uri": "https://localhost:8080/"
        },
        "id": "female-study",
        "outputId": "f3a01af8-e07a-4301-db28-23e7d0de79fb"
      },
      "outputs": [
        {
          "output_type": "execute_result",
          "data": {
            "text/plain": [
              "array([[0., 1.],\n",
              "       [0., 1.],\n",
              "       [1., 0.],\n",
              "       [1., 0.],\n",
              "       [1., 0.],\n",
              "       [0., 1.],\n",
              "       [0., 1.],\n",
              "       [1., 0.],\n",
              "       [1., 0.],\n",
              "       [1., 0.],\n",
              "       [0., 1.],\n",
              "       [1., 0.],\n",
              "       [0., 1.],\n",
              "       [1., 0.],\n",
              "       [0., 1.],\n",
              "       [1., 0.],\n",
              "       [0., 1.],\n",
              "       [1., 0.],\n",
              "       [1., 0.],\n",
              "       [1., 0.],\n",
              "       [1., 0.],\n",
              "       [0., 1.],\n",
              "       [1., 0.],\n",
              "       [1., 0.],\n",
              "       [1., 0.],\n",
              "       [0., 1.]], dtype=float32)"
            ]
          },
          "metadata": {},
          "execution_count": 44
        }
      ],
      "source": [
        "y"
      ]
    },
    {
      "cell_type": "code",
      "execution_count": 45,
      "id": "flexible-lithuania",
      "metadata": {
        "colab": {
          "base_uri": "https://localhost:8080/"
        },
        "id": "flexible-lithuania",
        "outputId": "6256882d-c10f-44b1-94e3-dd69b07f830d"
      },
      "outputs": [
        {
          "output_type": "execute_result",
          "data": {
            "text/plain": [
              "(20, 40)"
            ]
          },
          "metadata": {},
          "execution_count": 45
        }
      ],
      "source": [
        "X_train.shape"
      ]
    },
    {
      "cell_type": "code",
      "execution_count": 46,
      "id": "instrumental-equity",
      "metadata": {
        "colab": {
          "base_uri": "https://localhost:8080/"
        },
        "id": "instrumental-equity",
        "outputId": "9d86fbd2-7231-4f2a-cb22-b4e129bab18a"
      },
      "outputs": [
        {
          "output_type": "execute_result",
          "data": {
            "text/plain": [
              "(6, 40)"
            ]
          },
          "metadata": {},
          "execution_count": 46
        }
      ],
      "source": [
        "X_test.shape"
      ]
    },
    {
      "cell_type": "code",
      "execution_count": 47,
      "id": "chemical-vermont",
      "metadata": {
        "colab": {
          "base_uri": "https://localhost:8080/"
        },
        "id": "chemical-vermont",
        "outputId": "0a50ff0f-317a-4015-a288-60a7efb937bd"
      },
      "outputs": [
        {
          "output_type": "execute_result",
          "data": {
            "text/plain": [
              "(20, 2)"
            ]
          },
          "metadata": {},
          "execution_count": 47
        }
      ],
      "source": [
        "y_train.shape"
      ]
    },
    {
      "cell_type": "code",
      "execution_count": 48,
      "id": "governing-natural",
      "metadata": {
        "colab": {
          "base_uri": "https://localhost:8080/"
        },
        "id": "governing-natural",
        "outputId": "8fb47fd3-1e68-428f-c3f1-dfd951d7a1a1"
      },
      "outputs": [
        {
          "output_type": "execute_result",
          "data": {
            "text/plain": [
              "(6, 2)"
            ]
          },
          "metadata": {},
          "execution_count": 48
        }
      ],
      "source": [
        "y_test.shape"
      ]
    },
    {
      "cell_type": "markdown",
      "id": "express-vessel",
      "metadata": {
        "id": "express-vessel"
      },
      "source": [
        "### Model Creation"
      ]
    },
    {
      "cell_type": "code",
      "execution_count": 49,
      "id": "loose-portugal",
      "metadata": {
        "id": "loose-portugal",
        "outputId": "db215e57-f236-4fb5-e644-c6b04717fa14",
        "colab": {
          "base_uri": "https://localhost:8080/"
        }
      },
      "outputs": [
        {
          "output_type": "stream",
          "name": "stdout",
          "text": [
            "2.9.2\n"
          ]
        }
      ],
      "source": [
        "import tensorflow as tf\n",
        "print(tf.__version__)"
      ]
    },
    {
      "cell_type": "code",
      "execution_count": 50,
      "id": "indonesian-accessory",
      "metadata": {
        "id": "indonesian-accessory"
      },
      "outputs": [],
      "source": [
        "from tensorflow.keras.models import Sequential\n",
        "from tensorflow.keras.layers import Dense,Dropout,Activation,Flatten\n",
        "from tensorflow.keras.optimizers import Adam\n",
        "from sklearn import metrics"
      ]
    },
    {
      "cell_type": "code",
      "execution_count": 51,
      "id": "valuable-substitute",
      "metadata": {
        "id": "valuable-substitute"
      },
      "outputs": [],
      "source": [
        "### No of classes\n",
        "num_labels=y.shape[1]"
      ]
    },
    {
      "cell_type": "code",
      "execution_count": 52,
      "id": "choice-contract",
      "metadata": {
        "id": "choice-contract",
        "colab": {
          "base_uri": "https://localhost:8080/"
        },
        "outputId": "9ba6af68-273d-4aa7-a007-b65acddc30f6"
      },
      "outputs": [
        {
          "output_type": "execute_result",
          "data": {
            "text/plain": [
              "2"
            ]
          },
          "metadata": {},
          "execution_count": 52
        }
      ],
      "source": [
        "num_labels"
      ]
    },
    {
      "cell_type": "code",
      "execution_count": 53,
      "id": "found-outside",
      "metadata": {
        "id": "found-outside"
      },
      "outputs": [],
      "source": [
        "model=Sequential()\n",
        "###first layer\n",
        "model.add(Dense(100,input_shape=(40,)))\n",
        "model.add(Activation('relu'))\n",
        "model.add(Dropout(0.5))\n",
        "###second layer\n",
        "model.add(Dense(200))\n",
        "model.add(Activation('relu'))\n",
        "model.add(Dropout(0.5))\n",
        "###third layer\n",
        "model.add(Dense(100))\n",
        "model.add(Activation('relu'))\n",
        "model.add(Dropout(0.5))\n",
        "\n",
        "###final layer\n",
        "model.add(Dense(num_labels))\n",
        "model.add(Activation('sigmoid'))"
      ]
    },
    {
      "cell_type": "code",
      "execution_count": 54,
      "id": "described-anaheim",
      "metadata": {
        "id": "described-anaheim",
        "colab": {
          "base_uri": "https://localhost:8080/"
        },
        "outputId": "e467786c-9ba0-4605-b820-48cfd2efd1f2"
      },
      "outputs": [
        {
          "output_type": "stream",
          "name": "stdout",
          "text": [
            "Model: \"sequential\"\n",
            "_________________________________________________________________\n",
            " Layer (type)                Output Shape              Param #   \n",
            "=================================================================\n",
            " dense (Dense)               (None, 100)               4100      \n",
            "                                                                 \n",
            " activation (Activation)     (None, 100)               0         \n",
            "                                                                 \n",
            " dropout (Dropout)           (None, 100)               0         \n",
            "                                                                 \n",
            " dense_1 (Dense)             (None, 200)               20200     \n",
            "                                                                 \n",
            " activation_1 (Activation)   (None, 200)               0         \n",
            "                                                                 \n",
            " dropout_1 (Dropout)         (None, 200)               0         \n",
            "                                                                 \n",
            " dense_2 (Dense)             (None, 100)               20100     \n",
            "                                                                 \n",
            " activation_2 (Activation)   (None, 100)               0         \n",
            "                                                                 \n",
            " dropout_2 (Dropout)         (None, 100)               0         \n",
            "                                                                 \n",
            " dense_3 (Dense)             (None, 2)                 202       \n",
            "                                                                 \n",
            " activation_3 (Activation)   (None, 2)                 0         \n",
            "                                                                 \n",
            "=================================================================\n",
            "Total params: 44,602\n",
            "Trainable params: 44,602\n",
            "Non-trainable params: 0\n",
            "_________________________________________________________________\n"
          ]
        }
      ],
      "source": [
        "model.summary()"
      ]
    },
    {
      "cell_type": "code",
      "execution_count": 55,
      "id": "radical-finding",
      "metadata": {
        "id": "radical-finding"
      },
      "outputs": [],
      "source": [
        "model.compile(loss='categorical_crossentropy',metrics=['accuracy'],optimizer='adam')"
      ]
    },
    {
      "cell_type": "code",
      "execution_count": 56,
      "id": "alpha-adapter",
      "metadata": {
        "id": "alpha-adapter",
        "colab": {
          "base_uri": "https://localhost:8080/"
        },
        "outputId": "c3403005-0ebc-4907-fe0d-523ad55aa3f8"
      },
      "outputs": [
        {
          "output_type": "stream",
          "name": "stdout",
          "text": [
            "Epoch 1/100\n",
            "1/1 [==============================] - ETA: 0s - loss: 14.6149 - accuracy: 0.6000\n",
            "Epoch 1: val_loss improved from inf to 7.03230, saving model to saved_models/audio_classification.hdf5\n",
            "1/1 [==============================] - 1s 1s/step - loss: 14.6149 - accuracy: 0.6000 - val_loss: 7.0323 - val_accuracy: 0.3333\n",
            "Epoch 2/100\n",
            "1/1 [==============================] - ETA: 0s - loss: 27.4075 - accuracy: 0.4000\n",
            "Epoch 2: val_loss improved from 7.03230 to 2.71730, saving model to saved_models/audio_classification.hdf5\n",
            "1/1 [==============================] - 0s 76ms/step - loss: 27.4075 - accuracy: 0.4000 - val_loss: 2.7173 - val_accuracy: 0.1667\n",
            "Epoch 3/100\n",
            "1/1 [==============================] - ETA: 0s - loss: 47.3258 - accuracy: 0.4000\n",
            "Epoch 3: val_loss did not improve from 2.71730\n",
            "1/1 [==============================] - 0s 34ms/step - loss: 47.3258 - accuracy: 0.4000 - val_loss: 2.7656 - val_accuracy: 0.5000\n",
            "Epoch 4/100\n",
            "1/1 [==============================] - ETA: 0s - loss: 32.8356 - accuracy: 0.4500\n",
            "Epoch 4: val_loss did not improve from 2.71730\n",
            "1/1 [==============================] - 0s 41ms/step - loss: 32.8356 - accuracy: 0.4500 - val_loss: 3.7179 - val_accuracy: 0.6667\n",
            "Epoch 5/100\n",
            "1/1 [==============================] - ETA: 0s - loss: 12.7845 - accuracy: 0.6500\n",
            "Epoch 5: val_loss did not improve from 2.71730\n",
            "1/1 [==============================] - 0s 36ms/step - loss: 12.7845 - accuracy: 0.6500 - val_loss: 5.0703 - val_accuracy: 0.6667\n",
            "Epoch 6/100\n",
            "1/1 [==============================] - ETA: 0s - loss: 24.3519 - accuracy: 0.4500\n",
            "Epoch 6: val_loss did not improve from 2.71730\n",
            "1/1 [==============================] - 0s 33ms/step - loss: 24.3519 - accuracy: 0.4500 - val_loss: 6.7264 - val_accuracy: 0.6667\n",
            "Epoch 7/100\n",
            "1/1 [==============================] - ETA: 0s - loss: 20.8710 - accuracy: 0.7000\n",
            "Epoch 7: val_loss did not improve from 2.71730\n",
            "1/1 [==============================] - 0s 42ms/step - loss: 20.8710 - accuracy: 0.7000 - val_loss: 7.4650 - val_accuracy: 0.6667\n",
            "Epoch 8/100\n",
            "1/1 [==============================] - ETA: 0s - loss: 17.8785 - accuracy: 0.5500\n",
            "Epoch 8: val_loss did not improve from 2.71730\n",
            "1/1 [==============================] - 0s 37ms/step - loss: 17.8785 - accuracy: 0.5500 - val_loss: 8.2607 - val_accuracy: 0.6667\n",
            "Epoch 9/100\n",
            "1/1 [==============================] - ETA: 0s - loss: 21.4449 - accuracy: 0.5500\n",
            "Epoch 9: val_loss did not improve from 2.71730\n",
            "1/1 [==============================] - 0s 33ms/step - loss: 21.4449 - accuracy: 0.5500 - val_loss: 8.8862 - val_accuracy: 0.6667\n",
            "Epoch 10/100\n",
            "1/1 [==============================] - ETA: 0s - loss: 9.9312 - accuracy: 0.5500\n",
            "Epoch 10: val_loss did not improve from 2.71730\n",
            "1/1 [==============================] - 0s 42ms/step - loss: 9.9312 - accuracy: 0.5500 - val_loss: 9.1781 - val_accuracy: 0.6667\n",
            "Epoch 11/100\n",
            "1/1 [==============================] - ETA: 0s - loss: 24.8461 - accuracy: 0.6000\n",
            "Epoch 11: val_loss did not improve from 2.71730\n",
            "1/1 [==============================] - 0s 37ms/step - loss: 24.8461 - accuracy: 0.6000 - val_loss: 8.6786 - val_accuracy: 0.6667\n",
            "Epoch 12/100\n",
            "1/1 [==============================] - ETA: 0s - loss: 24.1747 - accuracy: 0.4000\n",
            "Epoch 12: val_loss did not improve from 2.71730\n",
            "1/1 [==============================] - 0s 40ms/step - loss: 24.1747 - accuracy: 0.4000 - val_loss: 7.8864 - val_accuracy: 0.6667\n",
            "Epoch 13/100\n",
            "1/1 [==============================] - ETA: 0s - loss: 28.0780 - accuracy: 0.4500\n",
            "Epoch 13: val_loss did not improve from 2.71730\n",
            "1/1 [==============================] - 0s 34ms/step - loss: 28.0780 - accuracy: 0.4500 - val_loss: 7.0024 - val_accuracy: 0.6667\n",
            "Epoch 14/100\n",
            "1/1 [==============================] - ETA: 0s - loss: 17.8139 - accuracy: 0.5500\n",
            "Epoch 14: val_loss did not improve from 2.71730\n",
            "1/1 [==============================] - 0s 35ms/step - loss: 17.8139 - accuracy: 0.5500 - val_loss: 6.6114 - val_accuracy: 0.6667\n",
            "Epoch 15/100\n",
            "1/1 [==============================] - ETA: 0s - loss: 21.0191 - accuracy: 0.4500\n",
            "Epoch 15: val_loss did not improve from 2.71730\n",
            "1/1 [==============================] - 0s 33ms/step - loss: 21.0191 - accuracy: 0.4500 - val_loss: 6.3503 - val_accuracy: 0.6667\n",
            "Epoch 16/100\n",
            "1/1 [==============================] - ETA: 0s - loss: 24.9200 - accuracy: 0.4000\n",
            "Epoch 16: val_loss did not improve from 2.71730\n",
            "1/1 [==============================] - 0s 34ms/step - loss: 24.9200 - accuracy: 0.4000 - val_loss: 5.7491 - val_accuracy: 0.6667\n",
            "Epoch 17/100\n",
            "1/1 [==============================] - ETA: 0s - loss: 21.1105 - accuracy: 0.3500\n",
            "Epoch 17: val_loss did not improve from 2.71730\n",
            "1/1 [==============================] - 0s 38ms/step - loss: 21.1105 - accuracy: 0.3500 - val_loss: 5.1760 - val_accuracy: 0.6667\n",
            "Epoch 18/100\n",
            "1/1 [==============================] - ETA: 0s - loss: 20.1425 - accuracy: 0.4500\n",
            "Epoch 18: val_loss did not improve from 2.71730\n",
            "1/1 [==============================] - 0s 38ms/step - loss: 20.1425 - accuracy: 0.4500 - val_loss: 4.4772 - val_accuracy: 0.6667\n",
            "Epoch 19/100\n",
            "1/1 [==============================] - ETA: 0s - loss: 12.7596 - accuracy: 0.5500\n",
            "Epoch 19: val_loss did not improve from 2.71730\n",
            "1/1 [==============================] - 0s 37ms/step - loss: 12.7596 - accuracy: 0.5500 - val_loss: 3.8931 - val_accuracy: 0.6667\n",
            "Epoch 20/100\n",
            "1/1 [==============================] - ETA: 0s - loss: 12.7567 - accuracy: 0.5500\n",
            "Epoch 20: val_loss did not improve from 2.71730\n",
            "1/1 [==============================] - 0s 31ms/step - loss: 12.7567 - accuracy: 0.5500 - val_loss: 3.3368 - val_accuracy: 0.6667\n",
            "Epoch 21/100\n",
            "1/1 [==============================] - ETA: 0s - loss: 24.5746 - accuracy: 0.5000\n",
            "Epoch 21: val_loss improved from 2.71730 to 2.42009, saving model to saved_models/audio_classification.hdf5\n",
            "1/1 [==============================] - 0s 85ms/step - loss: 24.5746 - accuracy: 0.5000 - val_loss: 2.4201 - val_accuracy: 0.6667\n",
            "Epoch 22/100\n",
            "1/1 [==============================] - ETA: 0s - loss: 14.7441 - accuracy: 0.6500\n",
            "Epoch 22: val_loss improved from 2.42009 to 1.60128, saving model to saved_models/audio_classification.hdf5\n",
            "1/1 [==============================] - 0s 74ms/step - loss: 14.7441 - accuracy: 0.6500 - val_loss: 1.6013 - val_accuracy: 0.5000\n",
            "Epoch 23/100\n",
            "1/1 [==============================] - ETA: 0s - loss: 13.4311 - accuracy: 0.6000\n",
            "Epoch 23: val_loss improved from 1.60128 to 1.28648, saving model to saved_models/audio_classification.hdf5\n",
            "1/1 [==============================] - 0s 88ms/step - loss: 13.4311 - accuracy: 0.6000 - val_loss: 1.2865 - val_accuracy: 0.6667\n",
            "Epoch 24/100\n",
            "1/1 [==============================] - ETA: 0s - loss: 6.1081 - accuracy: 0.7500\n",
            "Epoch 24: val_loss improved from 1.28648 to 1.26062, saving model to saved_models/audio_classification.hdf5\n",
            "1/1 [==============================] - 0s 72ms/step - loss: 6.1081 - accuracy: 0.7500 - val_loss: 1.2606 - val_accuracy: 0.6667\n",
            "Epoch 25/100\n",
            "1/1 [==============================] - ETA: 0s - loss: 12.1188 - accuracy: 0.7500\n",
            "Epoch 25: val_loss improved from 1.26062 to 1.25215, saving model to saved_models/audio_classification.hdf5\n",
            "1/1 [==============================] - 0s 85ms/step - loss: 12.1188 - accuracy: 0.7500 - val_loss: 1.2522 - val_accuracy: 0.6667\n",
            "Epoch 26/100\n",
            "1/1 [==============================] - ETA: 0s - loss: 18.1799 - accuracy: 0.4500\n",
            "Epoch 26: val_loss did not improve from 1.25215\n",
            "1/1 [==============================] - 0s 38ms/step - loss: 18.1799 - accuracy: 0.4500 - val_loss: 1.2708 - val_accuracy: 0.6667\n",
            "Epoch 27/100\n",
            "1/1 [==============================] - ETA: 0s - loss: 18.4491 - accuracy: 0.4000\n",
            "Epoch 27: val_loss did not improve from 1.25215\n",
            "1/1 [==============================] - 0s 34ms/step - loss: 18.4491 - accuracy: 0.4000 - val_loss: 1.3390 - val_accuracy: 0.6667\n",
            "Epoch 28/100\n",
            "1/1 [==============================] - ETA: 0s - loss: 23.6663 - accuracy: 0.5000\n",
            "Epoch 28: val_loss did not improve from 1.25215\n",
            "1/1 [==============================] - 0s 34ms/step - loss: 23.6663 - accuracy: 0.5000 - val_loss: 1.5091 - val_accuracy: 0.6667\n",
            "Epoch 29/100\n",
            "1/1 [==============================] - ETA: 0s - loss: 9.5900 - accuracy: 0.5500\n",
            "Epoch 29: val_loss did not improve from 1.25215\n",
            "1/1 [==============================] - 0s 33ms/step - loss: 9.5900 - accuracy: 0.5500 - val_loss: 1.8175 - val_accuracy: 0.6667\n",
            "Epoch 30/100\n",
            "1/1 [==============================] - ETA: 0s - loss: 18.0843 - accuracy: 0.4000\n",
            "Epoch 30: val_loss did not improve from 1.25215\n",
            "1/1 [==============================] - 0s 34ms/step - loss: 18.0843 - accuracy: 0.4000 - val_loss: 2.0500 - val_accuracy: 0.5000\n",
            "Epoch 31/100\n",
            "1/1 [==============================] - ETA: 0s - loss: 5.2560 - accuracy: 0.6000\n",
            "Epoch 31: val_loss did not improve from 1.25215\n",
            "1/1 [==============================] - 0s 34ms/step - loss: 5.2560 - accuracy: 0.6000 - val_loss: 2.1825 - val_accuracy: 0.5000\n",
            "Epoch 32/100\n",
            "1/1 [==============================] - ETA: 0s - loss: 17.7912 - accuracy: 0.3500\n",
            "Epoch 32: val_loss did not improve from 1.25215\n",
            "1/1 [==============================] - 0s 34ms/step - loss: 17.7912 - accuracy: 0.3500 - val_loss: 2.2640 - val_accuracy: 0.5000\n",
            "Epoch 33/100\n",
            "1/1 [==============================] - ETA: 0s - loss: 6.4345 - accuracy: 0.5000\n",
            "Epoch 33: val_loss did not improve from 1.25215\n",
            "1/1 [==============================] - 0s 36ms/step - loss: 6.4345 - accuracy: 0.5000 - val_loss: 2.2433 - val_accuracy: 0.5000\n",
            "Epoch 34/100\n",
            "1/1 [==============================] - ETA: 0s - loss: 19.4115 - accuracy: 0.5000\n",
            "Epoch 34: val_loss did not improve from 1.25215\n",
            "1/1 [==============================] - 0s 34ms/step - loss: 19.4115 - accuracy: 0.5000 - val_loss: 2.0744 - val_accuracy: 0.5000\n",
            "Epoch 35/100\n",
            "1/1 [==============================] - ETA: 0s - loss: 10.1903 - accuracy: 0.5000\n",
            "Epoch 35: val_loss did not improve from 1.25215\n",
            "1/1 [==============================] - 0s 54ms/step - loss: 10.1903 - accuracy: 0.5000 - val_loss: 1.8962 - val_accuracy: 0.5000\n",
            "Epoch 36/100\n",
            "1/1 [==============================] - ETA: 0s - loss: 11.8505 - accuracy: 0.4500\n",
            "Epoch 36: val_loss did not improve from 1.25215\n",
            "1/1 [==============================] - 0s 36ms/step - loss: 11.8505 - accuracy: 0.4500 - val_loss: 1.6624 - val_accuracy: 0.5000\n",
            "Epoch 37/100\n",
            "1/1 [==============================] - ETA: 0s - loss: 15.1158 - accuracy: 0.4000\n",
            "Epoch 37: val_loss did not improve from 1.25215\n",
            "1/1 [==============================] - 0s 32ms/step - loss: 15.1158 - accuracy: 0.4000 - val_loss: 1.3914 - val_accuracy: 0.8333\n",
            "Epoch 38/100\n",
            "1/1 [==============================] - ETA: 0s - loss: 19.5610 - accuracy: 0.3000\n",
            "Epoch 38: val_loss improved from 1.25215 to 1.23146, saving model to saved_models/audio_classification.hdf5\n",
            "1/1 [==============================] - 0s 89ms/step - loss: 19.5610 - accuracy: 0.3000 - val_loss: 1.2315 - val_accuracy: 0.8333\n",
            "Epoch 39/100\n",
            "1/1 [==============================] - ETA: 0s - loss: 7.9530 - accuracy: 0.6500\n",
            "Epoch 39: val_loss improved from 1.23146 to 1.13824, saving model to saved_models/audio_classification.hdf5\n",
            "1/1 [==============================] - 0s 85ms/step - loss: 7.9530 - accuracy: 0.6500 - val_loss: 1.1382 - val_accuracy: 0.6667\n",
            "Epoch 40/100\n",
            "1/1 [==============================] - ETA: 0s - loss: 4.8380 - accuracy: 0.6000\n",
            "Epoch 40: val_loss improved from 1.13824 to 1.05994, saving model to saved_models/audio_classification.hdf5\n",
            "1/1 [==============================] - 0s 76ms/step - loss: 4.8380 - accuracy: 0.6000 - val_loss: 1.0599 - val_accuracy: 0.6667\n",
            "Epoch 41/100\n",
            "1/1 [==============================] - ETA: 0s - loss: 19.5386 - accuracy: 0.3500\n",
            "Epoch 41: val_loss improved from 1.05994 to 1.02969, saving model to saved_models/audio_classification.hdf5\n",
            "1/1 [==============================] - 0s 86ms/step - loss: 19.5386 - accuracy: 0.3500 - val_loss: 1.0297 - val_accuracy: 0.6667\n",
            "Epoch 42/100\n",
            "1/1 [==============================] - ETA: 0s - loss: 10.5685 - accuracy: 0.5500\n",
            "Epoch 42: val_loss did not improve from 1.02969\n",
            "1/1 [==============================] - 0s 39ms/step - loss: 10.5685 - accuracy: 0.5500 - val_loss: 1.0326 - val_accuracy: 0.6667\n",
            "Epoch 43/100\n",
            "1/1 [==============================] - ETA: 0s - loss: 13.5629 - accuracy: 0.5000\n",
            "Epoch 43: val_loss did not improve from 1.02969\n",
            "1/1 [==============================] - 0s 33ms/step - loss: 13.5629 - accuracy: 0.5000 - val_loss: 1.0577 - val_accuracy: 0.6667\n",
            "Epoch 44/100\n",
            "1/1 [==============================] - ETA: 0s - loss: 8.4187 - accuracy: 0.5500\n",
            "Epoch 44: val_loss did not improve from 1.02969\n",
            "1/1 [==============================] - 0s 34ms/step - loss: 8.4187 - accuracy: 0.5500 - val_loss: 1.0899 - val_accuracy: 0.6667\n",
            "Epoch 45/100\n",
            "1/1 [==============================] - ETA: 0s - loss: 16.6072 - accuracy: 0.5000\n",
            "Epoch 45: val_loss did not improve from 1.02969\n",
            "1/1 [==============================] - 0s 34ms/step - loss: 16.6072 - accuracy: 0.5000 - val_loss: 1.1472 - val_accuracy: 0.6667\n",
            "Epoch 46/100\n",
            "1/1 [==============================] - ETA: 0s - loss: 12.0943 - accuracy: 0.7500\n",
            "Epoch 46: val_loss did not improve from 1.02969\n",
            "1/1 [==============================] - 0s 32ms/step - loss: 12.0943 - accuracy: 0.7500 - val_loss: 1.1911 - val_accuracy: 0.8333\n",
            "Epoch 47/100\n",
            "1/1 [==============================] - ETA: 0s - loss: 9.9831 - accuracy: 0.6500\n",
            "Epoch 47: val_loss did not improve from 1.02969\n",
            "1/1 [==============================] - 0s 35ms/step - loss: 9.9831 - accuracy: 0.6500 - val_loss: 1.1858 - val_accuracy: 0.8333\n",
            "Epoch 48/100\n",
            "1/1 [==============================] - ETA: 0s - loss: 9.2608 - accuracy: 0.6000\n",
            "Epoch 48: val_loss did not improve from 1.02969\n",
            "1/1 [==============================] - 0s 34ms/step - loss: 9.2608 - accuracy: 0.6000 - val_loss: 1.1465 - val_accuracy: 0.8333\n",
            "Epoch 49/100\n",
            "1/1 [==============================] - ETA: 0s - loss: 7.1187 - accuracy: 0.4500\n",
            "Epoch 49: val_loss did not improve from 1.02969\n",
            "1/1 [==============================] - 0s 38ms/step - loss: 7.1187 - accuracy: 0.4500 - val_loss: 1.0501 - val_accuracy: 0.8333\n",
            "Epoch 50/100\n",
            "1/1 [==============================] - ETA: 0s - loss: 7.2041 - accuracy: 0.6500\n",
            "Epoch 50: val_loss improved from 1.02969 to 0.95734, saving model to saved_models/audio_classification.hdf5\n",
            "1/1 [==============================] - 0s 89ms/step - loss: 7.2041 - accuracy: 0.6500 - val_loss: 0.9573 - val_accuracy: 0.6667\n",
            "Epoch 51/100\n",
            "1/1 [==============================] - ETA: 0s - loss: 9.2783 - accuracy: 0.5000\n",
            "Epoch 51: val_loss improved from 0.95734 to 0.89811, saving model to saved_models/audio_classification.hdf5\n",
            "1/1 [==============================] - 0s 89ms/step - loss: 9.2783 - accuracy: 0.5000 - val_loss: 0.8981 - val_accuracy: 0.6667\n",
            "Epoch 52/100\n",
            "1/1 [==============================] - ETA: 0s - loss: 9.4207 - accuracy: 0.5000\n",
            "Epoch 52: val_loss improved from 0.89811 to 0.86073, saving model to saved_models/audio_classification.hdf5\n",
            "1/1 [==============================] - 0s 83ms/step - loss: 9.4207 - accuracy: 0.5000 - val_loss: 0.8607 - val_accuracy: 0.6667\n",
            "Epoch 53/100\n",
            "1/1 [==============================] - ETA: 0s - loss: 6.4758 - accuracy: 0.6500\n",
            "Epoch 53: val_loss improved from 0.86073 to 0.84078, saving model to saved_models/audio_classification.hdf5\n",
            "1/1 [==============================] - 0s 82ms/step - loss: 6.4758 - accuracy: 0.6500 - val_loss: 0.8408 - val_accuracy: 0.6667\n",
            "Epoch 54/100\n",
            "1/1 [==============================] - ETA: 0s - loss: 9.6282 - accuracy: 0.3500\n",
            "Epoch 54: val_loss improved from 0.84078 to 0.81160, saving model to saved_models/audio_classification.hdf5\n",
            "1/1 [==============================] - 0s 89ms/step - loss: 9.6282 - accuracy: 0.3500 - val_loss: 0.8116 - val_accuracy: 0.6667\n",
            "Epoch 55/100\n",
            "1/1 [==============================] - ETA: 0s - loss: 4.9466 - accuracy: 0.5500\n",
            "Epoch 55: val_loss improved from 0.81160 to 0.77909, saving model to saved_models/audio_classification.hdf5\n",
            "1/1 [==============================] - 0s 80ms/step - loss: 4.9466 - accuracy: 0.5500 - val_loss: 0.7791 - val_accuracy: 0.6667\n",
            "Epoch 56/100\n",
            "1/1 [==============================] - ETA: 0s - loss: 6.8354 - accuracy: 0.6500\n",
            "Epoch 56: val_loss improved from 0.77909 to 0.75863, saving model to saved_models/audio_classification.hdf5\n",
            "1/1 [==============================] - 0s 80ms/step - loss: 6.8354 - accuracy: 0.6500 - val_loss: 0.7586 - val_accuracy: 0.6667\n",
            "Epoch 57/100\n",
            "1/1 [==============================] - ETA: 0s - loss: 7.2712 - accuracy: 0.5500\n",
            "Epoch 57: val_loss improved from 0.75863 to 0.74604, saving model to saved_models/audio_classification.hdf5\n",
            "1/1 [==============================] - 0s 84ms/step - loss: 7.2712 - accuracy: 0.5500 - val_loss: 0.7460 - val_accuracy: 0.6667\n",
            "Epoch 58/100\n",
            "1/1 [==============================] - ETA: 0s - loss: 5.2295 - accuracy: 0.7500\n",
            "Epoch 58: val_loss did not improve from 0.74604\n",
            "1/1 [==============================] - 0s 36ms/step - loss: 5.2295 - accuracy: 0.7500 - val_loss: 0.7552 - val_accuracy: 0.6667\n",
            "Epoch 59/100\n",
            "1/1 [==============================] - ETA: 0s - loss: 5.4581 - accuracy: 0.5500\n",
            "Epoch 59: val_loss did not improve from 0.74604\n",
            "1/1 [==============================] - 0s 38ms/step - loss: 5.4581 - accuracy: 0.5500 - val_loss: 0.7959 - val_accuracy: 0.6667\n",
            "Epoch 60/100\n",
            "1/1 [==============================] - ETA: 0s - loss: 8.4740 - accuracy: 0.5500\n",
            "Epoch 60: val_loss did not improve from 0.74604\n",
            "1/1 [==============================] - 0s 39ms/step - loss: 8.4740 - accuracy: 0.5500 - val_loss: 0.8218 - val_accuracy: 0.6667\n",
            "Epoch 61/100\n",
            "1/1 [==============================] - ETA: 0s - loss: 4.4399 - accuracy: 0.6000\n",
            "Epoch 61: val_loss did not improve from 0.74604\n",
            "1/1 [==============================] - 0s 36ms/step - loss: 4.4399 - accuracy: 0.6000 - val_loss: 0.8324 - val_accuracy: 0.6667\n",
            "Epoch 62/100\n",
            "1/1 [==============================] - ETA: 0s - loss: 13.0182 - accuracy: 0.4000\n",
            "Epoch 62: val_loss did not improve from 0.74604\n",
            "1/1 [==============================] - 0s 38ms/step - loss: 13.0182 - accuracy: 0.4000 - val_loss: 0.8439 - val_accuracy: 0.6667\n",
            "Epoch 63/100\n",
            "1/1 [==============================] - ETA: 0s - loss: 3.6936 - accuracy: 0.6000\n",
            "Epoch 63: val_loss did not improve from 0.74604\n",
            "1/1 [==============================] - 0s 36ms/step - loss: 3.6936 - accuracy: 0.6000 - val_loss: 0.8141 - val_accuracy: 0.6667\n",
            "Epoch 64/100\n",
            "1/1 [==============================] - ETA: 0s - loss: 4.0438 - accuracy: 0.6500\n",
            "Epoch 64: val_loss did not improve from 0.74604\n",
            "1/1 [==============================] - 0s 53ms/step - loss: 4.0438 - accuracy: 0.6500 - val_loss: 0.7711 - val_accuracy: 0.6667\n",
            "Epoch 65/100\n",
            "1/1 [==============================] - ETA: 0s - loss: 9.4070 - accuracy: 0.5500\n",
            "Epoch 65: val_loss did not improve from 0.74604\n",
            "1/1 [==============================] - 0s 37ms/step - loss: 9.4070 - accuracy: 0.5500 - val_loss: 0.7565 - val_accuracy: 0.6667\n",
            "Epoch 66/100\n",
            "1/1 [==============================] - ETA: 0s - loss: 7.5957 - accuracy: 0.5500\n",
            "Epoch 66: val_loss did not improve from 0.74604\n",
            "1/1 [==============================] - 0s 34ms/step - loss: 7.5957 - accuracy: 0.5500 - val_loss: 0.7694 - val_accuracy: 0.6667\n",
            "Epoch 67/100\n",
            "1/1 [==============================] - ETA: 0s - loss: 7.2134 - accuracy: 0.5500\n",
            "Epoch 67: val_loss did not improve from 0.74604\n",
            "1/1 [==============================] - 0s 33ms/step - loss: 7.2134 - accuracy: 0.5500 - val_loss: 0.8008 - val_accuracy: 0.6667\n",
            "Epoch 68/100\n",
            "1/1 [==============================] - ETA: 0s - loss: 3.6474 - accuracy: 0.6000\n",
            "Epoch 68: val_loss did not improve from 0.74604\n",
            "1/1 [==============================] - 0s 35ms/step - loss: 3.6474 - accuracy: 0.6000 - val_loss: 0.8083 - val_accuracy: 0.6667\n",
            "Epoch 69/100\n",
            "1/1 [==============================] - ETA: 0s - loss: 7.1481 - accuracy: 0.6500\n",
            "Epoch 69: val_loss did not improve from 0.74604\n",
            "1/1 [==============================] - 0s 34ms/step - loss: 7.1481 - accuracy: 0.6500 - val_loss: 0.8092 - val_accuracy: 0.6667\n",
            "Epoch 70/100\n",
            "1/1 [==============================] - ETA: 0s - loss: 5.5758 - accuracy: 0.6000\n",
            "Epoch 70: val_loss did not improve from 0.74604\n",
            "1/1 [==============================] - 0s 35ms/step - loss: 5.5758 - accuracy: 0.6000 - val_loss: 0.8182 - val_accuracy: 0.6667\n",
            "Epoch 71/100\n",
            "1/1 [==============================] - ETA: 0s - loss: 7.6948 - accuracy: 0.5500\n",
            "Epoch 71: val_loss did not improve from 0.74604\n",
            "1/1 [==============================] - 0s 33ms/step - loss: 7.6948 - accuracy: 0.5500 - val_loss: 0.8488 - val_accuracy: 0.6667\n",
            "Epoch 72/100\n",
            "1/1 [==============================] - ETA: 0s - loss: 4.8675 - accuracy: 0.6000\n",
            "Epoch 72: val_loss did not improve from 0.74604\n",
            "1/1 [==============================] - 0s 33ms/step - loss: 4.8675 - accuracy: 0.6000 - val_loss: 0.8676 - val_accuracy: 0.6667\n",
            "Epoch 73/100\n",
            "1/1 [==============================] - ETA: 0s - loss: 3.8840 - accuracy: 0.6500\n",
            "Epoch 73: val_loss did not improve from 0.74604\n",
            "1/1 [==============================] - 0s 36ms/step - loss: 3.8840 - accuracy: 0.6500 - val_loss: 0.9024 - val_accuracy: 0.5000\n",
            "Epoch 74/100\n",
            "1/1 [==============================] - ETA: 0s - loss: 4.2510 - accuracy: 0.6000\n",
            "Epoch 74: val_loss did not improve from 0.74604\n",
            "1/1 [==============================] - 0s 42ms/step - loss: 4.2510 - accuracy: 0.6000 - val_loss: 0.9219 - val_accuracy: 0.5000\n",
            "Epoch 75/100\n",
            "1/1 [==============================] - ETA: 0s - loss: 5.0507 - accuracy: 0.7000\n",
            "Epoch 75: val_loss did not improve from 0.74604\n",
            "1/1 [==============================] - 0s 34ms/step - loss: 5.0507 - accuracy: 0.7000 - val_loss: 0.9527 - val_accuracy: 0.5000\n",
            "Epoch 76/100\n",
            "1/1 [==============================] - ETA: 0s - loss: 6.0467 - accuracy: 0.7000\n",
            "Epoch 76: val_loss did not improve from 0.74604\n",
            "1/1 [==============================] - 0s 36ms/step - loss: 6.0467 - accuracy: 0.7000 - val_loss: 1.0004 - val_accuracy: 0.3333\n",
            "Epoch 77/100\n",
            "1/1 [==============================] - ETA: 0s - loss: 3.4314 - accuracy: 0.7000\n",
            "Epoch 77: val_loss did not improve from 0.74604\n",
            "1/1 [==============================] - 0s 40ms/step - loss: 3.4314 - accuracy: 0.7000 - val_loss: 1.0555 - val_accuracy: 0.3333\n",
            "Epoch 78/100\n",
            "1/1 [==============================] - ETA: 0s - loss: 2.9172 - accuracy: 0.7500\n",
            "Epoch 78: val_loss did not improve from 0.74604\n",
            "1/1 [==============================] - 0s 38ms/step - loss: 2.9172 - accuracy: 0.7500 - val_loss: 1.1359 - val_accuracy: 0.5000\n",
            "Epoch 79/100\n",
            "1/1 [==============================] - ETA: 0s - loss: 2.1545 - accuracy: 0.7000\n",
            "Epoch 79: val_loss did not improve from 0.74604\n",
            "1/1 [==============================] - 0s 36ms/step - loss: 2.1545 - accuracy: 0.7000 - val_loss: 1.1845 - val_accuracy: 0.3333\n",
            "Epoch 80/100\n",
            "1/1 [==============================] - ETA: 0s - loss: 6.8090 - accuracy: 0.6000\n",
            "Epoch 80: val_loss did not improve from 0.74604\n",
            "1/1 [==============================] - 0s 39ms/step - loss: 6.8090 - accuracy: 0.6000 - val_loss: 1.2165 - val_accuracy: 0.3333\n",
            "Epoch 81/100\n",
            "1/1 [==============================] - ETA: 0s - loss: 4.8835 - accuracy: 0.5000\n",
            "Epoch 81: val_loss did not improve from 0.74604\n",
            "1/1 [==============================] - 0s 34ms/step - loss: 4.8835 - accuracy: 0.5000 - val_loss: 1.2300 - val_accuracy: 0.3333\n",
            "Epoch 82/100\n",
            "1/1 [==============================] - ETA: 0s - loss: 7.0752 - accuracy: 0.4000\n",
            "Epoch 82: val_loss did not improve from 0.74604\n",
            "1/1 [==============================] - 0s 36ms/step - loss: 7.0752 - accuracy: 0.4000 - val_loss: 1.2286 - val_accuracy: 0.3333\n",
            "Epoch 83/100\n",
            "1/1 [==============================] - ETA: 0s - loss: 3.4245 - accuracy: 0.7500\n",
            "Epoch 83: val_loss did not improve from 0.74604\n",
            "1/1 [==============================] - 0s 38ms/step - loss: 3.4245 - accuracy: 0.7500 - val_loss: 1.1986 - val_accuracy: 0.3333\n",
            "Epoch 84/100\n",
            "1/1 [==============================] - ETA: 0s - loss: 2.8355 - accuracy: 0.6000\n",
            "Epoch 84: val_loss did not improve from 0.74604\n",
            "1/1 [==============================] - 0s 35ms/step - loss: 2.8355 - accuracy: 0.6000 - val_loss: 1.1351 - val_accuracy: 0.3333\n",
            "Epoch 85/100\n",
            "1/1 [==============================] - ETA: 0s - loss: 4.3661 - accuracy: 0.5500\n",
            "Epoch 85: val_loss did not improve from 0.74604\n",
            "1/1 [==============================] - 0s 35ms/step - loss: 4.3661 - accuracy: 0.5500 - val_loss: 1.1116 - val_accuracy: 0.3333\n",
            "Epoch 86/100\n",
            "1/1 [==============================] - ETA: 0s - loss: 7.5928 - accuracy: 0.4500\n",
            "Epoch 86: val_loss did not improve from 0.74604\n",
            "1/1 [==============================] - 0s 44ms/step - loss: 7.5928 - accuracy: 0.4500 - val_loss: 1.0794 - val_accuracy: 0.3333\n",
            "Epoch 87/100\n",
            "1/1 [==============================] - ETA: 0s - loss: 7.3177 - accuracy: 0.5500\n",
            "Epoch 87: val_loss did not improve from 0.74604\n",
            "1/1 [==============================] - 0s 40ms/step - loss: 7.3177 - accuracy: 0.5500 - val_loss: 1.0710 - val_accuracy: 0.3333\n",
            "Epoch 88/100\n",
            "1/1 [==============================] - ETA: 0s - loss: 6.0944 - accuracy: 0.5500\n",
            "Epoch 88: val_loss did not improve from 0.74604\n",
            "1/1 [==============================] - 0s 41ms/step - loss: 6.0944 - accuracy: 0.5500 - val_loss: 1.0643 - val_accuracy: 0.3333\n",
            "Epoch 89/100\n",
            "1/1 [==============================] - ETA: 0s - loss: 1.9957 - accuracy: 0.7500\n",
            "Epoch 89: val_loss did not improve from 0.74604\n",
            "1/1 [==============================] - 0s 37ms/step - loss: 1.9957 - accuracy: 0.7500 - val_loss: 1.0339 - val_accuracy: 0.3333\n",
            "Epoch 90/100\n",
            "1/1 [==============================] - ETA: 0s - loss: 8.8458 - accuracy: 0.4500\n",
            "Epoch 90: val_loss did not improve from 0.74604\n",
            "1/1 [==============================] - 0s 36ms/step - loss: 8.8458 - accuracy: 0.4500 - val_loss: 0.9753 - val_accuracy: 0.5000\n",
            "Epoch 91/100\n",
            "1/1 [==============================] - ETA: 0s - loss: 7.8192 - accuracy: 0.6500\n",
            "Epoch 91: val_loss did not improve from 0.74604\n",
            "1/1 [==============================] - 0s 37ms/step - loss: 7.8192 - accuracy: 0.6500 - val_loss: 0.9112 - val_accuracy: 0.5000\n",
            "Epoch 92/100\n",
            "1/1 [==============================] - ETA: 0s - loss: 3.3949 - accuracy: 0.7000\n",
            "Epoch 92: val_loss did not improve from 0.74604\n",
            "1/1 [==============================] - 0s 38ms/step - loss: 3.3949 - accuracy: 0.7000 - val_loss: 0.8578 - val_accuracy: 0.5000\n",
            "Epoch 93/100\n",
            "1/1 [==============================] - ETA: 0s - loss: 5.6580 - accuracy: 0.5000\n",
            "Epoch 93: val_loss did not improve from 0.74604\n",
            "1/1 [==============================] - 0s 35ms/step - loss: 5.6580 - accuracy: 0.5000 - val_loss: 0.7917 - val_accuracy: 0.6667\n",
            "Epoch 94/100\n",
            "1/1 [==============================] - ETA: 0s - loss: 7.4870 - accuracy: 0.4000\n",
            "Epoch 94: val_loss improved from 0.74604 to 0.72467, saving model to saved_models/audio_classification.hdf5\n",
            "1/1 [==============================] - 0s 79ms/step - loss: 7.4870 - accuracy: 0.4000 - val_loss: 0.7247 - val_accuracy: 0.6667\n",
            "Epoch 95/100\n",
            "1/1 [==============================] - ETA: 0s - loss: 1.4527 - accuracy: 0.8500\n",
            "Epoch 95: val_loss improved from 0.72467 to 0.68018, saving model to saved_models/audio_classification.hdf5\n",
            "1/1 [==============================] - 0s 74ms/step - loss: 1.4527 - accuracy: 0.8500 - val_loss: 0.6802 - val_accuracy: 0.6667\n",
            "Epoch 96/100\n",
            "1/1 [==============================] - ETA: 0s - loss: 4.7438 - accuracy: 0.4000\n",
            "Epoch 96: val_loss improved from 0.68018 to 0.65117, saving model to saved_models/audio_classification.hdf5\n",
            "1/1 [==============================] - 0s 82ms/step - loss: 4.7438 - accuracy: 0.4000 - val_loss: 0.6512 - val_accuracy: 0.6667\n",
            "Epoch 97/100\n",
            "1/1 [==============================] - ETA: 0s - loss: 4.0262 - accuracy: 0.6000\n",
            "Epoch 97: val_loss improved from 0.65117 to 0.61950, saving model to saved_models/audio_classification.hdf5\n",
            "1/1 [==============================] - 0s 88ms/step - loss: 4.0262 - accuracy: 0.6000 - val_loss: 0.6195 - val_accuracy: 0.6667\n",
            "Epoch 98/100\n",
            "1/1 [==============================] - ETA: 0s - loss: 0.7828 - accuracy: 0.8000\n",
            "Epoch 98: val_loss improved from 0.61950 to 0.61347, saving model to saved_models/audio_classification.hdf5\n",
            "1/1 [==============================] - 0s 86ms/step - loss: 0.7828 - accuracy: 0.8000 - val_loss: 0.6135 - val_accuracy: 0.6667\n",
            "Epoch 99/100\n",
            "1/1 [==============================] - ETA: 0s - loss: 1.3036 - accuracy: 0.7000\n",
            "Epoch 99: val_loss improved from 0.61347 to 0.60858, saving model to saved_models/audio_classification.hdf5\n",
            "1/1 [==============================] - 0s 91ms/step - loss: 1.3036 - accuracy: 0.7000 - val_loss: 0.6086 - val_accuracy: 0.6667\n",
            "Epoch 100/100\n",
            "1/1 [==============================] - ETA: 0s - loss: 8.3583 - accuracy: 0.5000\n",
            "Epoch 100: val_loss improved from 0.60858 to 0.58960, saving model to saved_models/audio_classification.hdf5\n",
            "1/1 [==============================] - 0s 73ms/step - loss: 8.3583 - accuracy: 0.5000 - val_loss: 0.5896 - val_accuracy: 0.6667\n",
            "Training completed in time:  0:00:06.781923\n"
          ]
        }
      ],
      "source": [
        "## Trianing my model\n",
        "from tensorflow.keras.callbacks import ModelCheckpoint\n",
        "from datetime import datetime \n",
        "\n",
        "num_epochs = 100\n",
        "num_batch_size = 32\n",
        "\n",
        "checkpointer = ModelCheckpoint(filepath='saved_models/audio_classification.hdf5', \n",
        "                               verbose=1, save_best_only=True)\n",
        "start = datetime.now()\n",
        "\n",
        "history=model.fit(X_train, y_train, batch_size=num_batch_size, epochs=num_epochs, validation_data=(X_test, y_test), callbacks=[checkpointer], verbose=1)\n",
        "\n",
        "\n",
        "duration = datetime.now() - start\n",
        "print(\"Training completed in time: \", duration)"
      ]
    },
    {
      "cell_type": "code",
      "execution_count": 57,
      "id": "virgin-butter",
      "metadata": {
        "id": "virgin-butter",
        "colab": {
          "base_uri": "https://localhost:8080/"
        },
        "outputId": "34880598-c121-4160-b28d-fba034006d73"
      },
      "outputs": [
        {
          "output_type": "stream",
          "name": "stdout",
          "text": [
            "0.6666666865348816\n"
          ]
        }
      ],
      "source": [
        "test_accuracy=model.evaluate(X_test,y_test,verbose=0)\n",
        "print(test_accuracy[1])"
      ]
    },
    {
      "cell_type": "code",
      "source": [
        "print(history.history.keys())\n",
        "# summarize history for accuracy\n",
        "plt.plot(history.history['accuracy'])\n",
        "plt.plot(history.history['val_accuracy'])\n",
        "plt.title('model accuracy')\n",
        "plt.ylabel('accuracy')\n",
        "plt.xlabel('epoch')\n",
        "plt.legend(['train', 'test'], loc='upper left')\n",
        "plt.show()\n",
        "# summarize history for loss\n",
        "plt.plot(history.history['loss'])\n",
        "plt.plot(history.history['val_loss'])\n",
        "plt.title('model loss')\n",
        "plt.ylabel('loss')\n",
        "plt.xlabel('epoch')\n",
        "plt.legend(['train', 'test'], loc='upper left')\n",
        "plt.show()"
      ],
      "metadata": {
        "colab": {
          "base_uri": "https://localhost:8080/",
          "height": 590
        },
        "id": "kYcaAmkrnNBr",
        "outputId": "9446fd56-c83a-4844-d17f-3613eacb8f2c"
      },
      "id": "kYcaAmkrnNBr",
      "execution_count": 58,
      "outputs": [
        {
          "output_type": "stream",
          "name": "stdout",
          "text": [
            "dict_keys(['loss', 'accuracy', 'val_loss', 'val_accuracy'])\n"
          ]
        },
        {
          "output_type": "display_data",
          "data": {
            "text/plain": [
              "<Figure size 432x288 with 1 Axes>"
            ],
            "image/png": "[encoded data removed]"
          },
          "metadata": {
            "needs_background": "light"
          }
        },
        {
          "output_type": "display_data",
          "data": {
            "text/plain": [
              "<Figure size 432x288 with 1 Axes>"
            ],
            "image/png": "[encoded data removed]"
          },
          "metadata": {
            "needs_background": "light"
          }
        }
      ]
    },
    {
      "cell_type": "code",
      "source": [
        "predict_y=model.predict(X_test)\n",
        "classes = np.argmax(predict_y,axis=1)\n",
        "print(classes)"
      ],
      "metadata": {
        "id": "_iwKK4xVRK0m",
        "colab": {
          "base_uri": "https://localhost:8080/"
        },
        "outputId": "d52f71a9-e22a-4c30-ad1a-02f05744ef72"
      },
      "id": "_iwKK4xVRK0m",
      "execution_count": 59,
      "outputs": [
        {
          "output_type": "stream",
          "name": "stdout",
          "text": [
            "1/1 [==============================] - 0s 97ms/step\n",
            "[0 1 1 0 0 0]\n"
          ]
        }
      ]
    },
    {
      "cell_type": "markdown",
      "id": "advanced-booth",
      "metadata": {
        "id": "advanced-booth"
      },
      "source": [
        "### Testing Some Test Audio Data\n",
        "\n",
        "Steps\n",
        "- Preprocess the new audio data\n",
        "- predict the classes\n",
        "- Invere transform your Predicted Label"
      ]
    },
    {
      "cell_type": "code",
      "execution_count": 65,
      "id": "chubby-newsletter",
      "metadata": {
        "scrolled": true,
        "id": "chubby-newsletter",
        "outputId": "3c6b3fb5-1753-4e76-af22-f0a49abf3e07",
        "colab": {
          "base_uri": "https://localhost:8080/"
        }
      },
      "outputs": [
        {
          "output_type": "stream",
          "name": "stderr",
          "text": [
            "/usr/local/lib/python3.8/dist-packages/librosa/core/audio.py:165: UserWarning: PySoundFile failed. Trying audioread instead.\n",
            "  warnings.warn(\"PySoundFile failed. Trying audioread instead.\")\n"
          ]
        },
        {
          "output_type": "stream",
          "name": "stdout",
          "text": [
            "[-2.2555620e+02  8.2867813e+01 -2.9195057e+01  2.7621769e+01\n",
            " -2.8444813e+01  1.8902143e+00 -1.2518842e+01  7.7440731e-02\n",
            " -1.9262367e+01  5.7887096e-02 -1.2563237e+01  2.0420208e+00\n",
            " -1.2208849e+01  2.3575535e+00 -9.5355749e+00  1.6772690e+00\n",
            " -1.1858421e+01  9.4126654e-01 -1.3298747e+01 -6.5363598e+00\n",
            " -9.9923058e+00 -5.0155621e+00 -9.7873087e+00 -4.3991494e+00\n",
            " -5.0149450e+00 -6.5662994e+00 -3.5907848e+00 -3.1079292e+00\n",
            " -5.3995538e+00 -4.6622128e+00 -3.6723988e+00 -3.9278741e+00\n",
            " -3.9595032e+00 -4.3041511e+00 -1.8754191e+00 -4.5228453e+00\n",
            " -2.2456250e+00 -4.0337644e+00 -1.3330013e+00 -3.7278721e+00]\n",
            "[[-2.2555620e+02  8.2867813e+01 -2.9195057e+01  2.7621769e+01\n",
            "  -2.8444813e+01  1.8902143e+00 -1.2518842e+01  7.7440731e-02\n",
            "  -1.9262367e+01  5.7887096e-02 -1.2563237e+01  2.0420208e+00\n",
            "  -1.2208849e+01  2.3575535e+00 -9.5355749e+00  1.6772690e+00\n",
            "  -1.1858421e+01  9.4126654e-01 -1.3298747e+01 -6.5363598e+00\n",
            "  -9.9923058e+00 -5.0155621e+00 -9.7873087e+00 -4.3991494e+00\n",
            "  -5.0149450e+00 -6.5662994e+00 -3.5907848e+00 -3.1079292e+00\n",
            "  -5.3995538e+00 -4.6622128e+00 -3.6723988e+00 -3.9278741e+00\n",
            "  -3.9595032e+00 -4.3041511e+00 -1.8754191e+00 -4.5228453e+00\n",
            "  -2.2456250e+00 -4.0337644e+00 -1.3330013e+00 -3.7278721e+00]]\n",
            "(1, 40)\n",
            "1/1 [==============================] - 0s 25ms/step\n",
            "1/1 [==============================] - 0s 19ms/step\n",
            "[0]\n"
          ]
        },
        {
          "output_type": "execute_result",
          "data": {
            "text/plain": [
              "array(['intoxicated'], dtype='<U11')"
            ]
          },
          "metadata": {},
          "execution_count": 65
        }
      ],
      "source": [
        "filename=\"/content/sauravok.mp3\"\n",
        "audio, sample_rate = librosa.load(filename, res_type='kaiser_fast') \n",
        "mfccs_features = librosa.feature.mfcc(y=audio, sr=sample_rate, n_mfcc=40)\n",
        "mfccs_scaled_features = np.mean(mfccs_features.T,axis=0)\n",
        "\n",
        "print(mfccs_scaled_features)\n",
        "mfccs_scaled_features=mfccs_scaled_features.reshape(1,-1)\n",
        "print(mfccs_scaled_features)\n",
        "print(mfccs_scaled_features.shape)\n",
        "predict_label=model.predict(mfccs_scaled_features)\n",
        "predicted_label=np.argmax(model.predict(mfccs_scaled_features), axis=-1)\n",
        "print(predicted_label)\n",
        "prediction_class = labelencoder.inverse_transform(predicted_label) \n",
        "prediction_class"
      ]
    },
    {
      "cell_type": "code",
      "execution_count": null,
      "id": "inclusive-theorem",
      "metadata": {
        "id": "inclusive-theorem"
      },
      "outputs": [],
      "source": []
    }
  ],
  "metadata": {
    "kernelspec": {
      "display_name": "Python 3",
      "language": "python",
      "name": "python3"
    },
    "language_info": {
      "codemirror_mode": {
        "name": "ipython",
        "version": 3
      },
      "file_extension": ".py",
      "mimetype": "text/x-python",
      "name": "python",
      "nbconvert_exporter": "python",
      "pygments_lexer": "ipython3",
      "version": "3.8.5"
    },
    "colab": {
      "provenance": []
    }
  },
  "nbformat": 4,
  "nbformat_minor": 5
}